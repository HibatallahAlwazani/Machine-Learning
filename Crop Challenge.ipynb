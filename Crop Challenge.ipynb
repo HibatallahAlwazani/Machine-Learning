{
 "cells": [
  {
   "cell_type": "code",
   "execution_count": 2,
   "metadata": {},
   "outputs": [],
   "source": [
    "\n",
    "#first importing necessary libraries\n",
    "import tarfile\n",
    "import urllib\n",
    "\n",
    "import matplotlib.pyplot as plt\n",
    "import numpy as np\n",
    "import pandas as pd\n",
    "from pandas import plotting\n",
    "from scipy import stats\n",
    "from sklearn import base\n",
    "from sklearn import compose, impute, pipeline, preprocessing\n",
    "from sklearn import linear_model, tree, ensemble, svm\n",
    "from sklearn import metrics, model_selection\n",
    "from sklearn.externals import joblib"
   ]
  },
  {
   "cell_type": "code",
   "execution_count": 3,
   "metadata": {},
   "outputs": [],
   "source": [
    "#reading file and storing in crop\n",
    "crop_data = pd.read_csv(\"/Users/hiba/Desktop/CC2020_train_final.csv\")"
   ]
  },
  {
   "cell_type": "code",
   "execution_count": 4,
   "metadata": {},
   "outputs": [
    {
     "data": {
      "text/html": [
       "<div>\n",
       "<style scoped>\n",
       "    .dataframe tbody tr th:only-of-type {\n",
       "        vertical-align: middle;\n",
       "    }\n",
       "\n",
       "    .dataframe tbody tr th {\n",
       "        vertical-align: top;\n",
       "    }\n",
       "\n",
       "    .dataframe thead th {\n",
       "        text-align: right;\n",
       "    }\n",
       "</style>\n",
       "<table border=\"1\" class=\"dataframe\">\n",
       "  <thead>\n",
       "    <tr style=\"text-align: right;\">\n",
       "      <th></th>\n",
       "      <th>YEAR</th>\n",
       "      <th>LOCATION</th>\n",
       "      <th>INBRED</th>\n",
       "      <th>INBRED_CLUSTER</th>\n",
       "      <th>TESTER</th>\n",
       "      <th>TESTER_CLUSTER</th>\n",
       "      <th>YIELD</th>\n",
       "    </tr>\n",
       "  </thead>\n",
       "  <tbody>\n",
       "    <tr>\n",
       "      <th>0</th>\n",
       "      <td>18</td>\n",
       "      <td>Loc 5608</td>\n",
       "      <td>Inbred_142</td>\n",
       "      <td>Cluster11</td>\n",
       "      <td>Tester_740</td>\n",
       "      <td>Cluster10</td>\n",
       "      <td>1.135462</td>\n",
       "    </tr>\n",
       "    <tr>\n",
       "      <th>1</th>\n",
       "      <td>18</td>\n",
       "      <td>Loc 4533</td>\n",
       "      <td>Inbred_142</td>\n",
       "      <td>Cluster11</td>\n",
       "      <td>Tester_740</td>\n",
       "      <td>Cluster10</td>\n",
       "      <td>1.139813</td>\n",
       "    </tr>\n",
       "    <tr>\n",
       "      <th>2</th>\n",
       "      <td>18</td>\n",
       "      <td>Loc 5620</td>\n",
       "      <td>Inbred_142</td>\n",
       "      <td>Cluster11</td>\n",
       "      <td>Tester_740</td>\n",
       "      <td>Cluster10</td>\n",
       "      <td>1.117778</td>\n",
       "    </tr>\n",
       "    <tr>\n",
       "      <th>3</th>\n",
       "      <td>18</td>\n",
       "      <td>Loc 4732</td>\n",
       "      <td>Inbred_142</td>\n",
       "      <td>Cluster11</td>\n",
       "      <td>Tester_740</td>\n",
       "      <td>Cluster10</td>\n",
       "      <td>1.171366</td>\n",
       "    </tr>\n",
       "    <tr>\n",
       "      <th>4</th>\n",
       "      <td>18</td>\n",
       "      <td>Loc 5500</td>\n",
       "      <td>Inbred_142</td>\n",
       "      <td>Cluster11</td>\n",
       "      <td>Tester_740</td>\n",
       "      <td>Cluster10</td>\n",
       "      <td>1.059364</td>\n",
       "    </tr>\n",
       "  </tbody>\n",
       "</table>\n",
       "</div>"
      ],
      "text/plain": [
       "   YEAR  LOCATION      INBRED INBRED_CLUSTER      TESTER TESTER_CLUSTER  \\\n",
       "0    18  Loc 5608  Inbred_142      Cluster11  Tester_740      Cluster10   \n",
       "1    18  Loc 4533  Inbred_142      Cluster11  Tester_740      Cluster10   \n",
       "2    18  Loc 5620  Inbred_142      Cluster11  Tester_740      Cluster10   \n",
       "3    18  Loc 4732  Inbred_142      Cluster11  Tester_740      Cluster10   \n",
       "4    18  Loc 5500  Inbred_142      Cluster11  Tester_740      Cluster10   \n",
       "\n",
       "      YIELD  \n",
       "0  1.135462  \n",
       "1  1.139813  \n",
       "2  1.117778  \n",
       "3  1.171366  \n",
       "4  1.059364  "
      ]
     },
     "execution_count": 4,
     "metadata": {},
     "output_type": "execute_result"
    }
   ],
   "source": [
    "crop_data.head()"
   ]
  },
  {
   "cell_type": "code",
   "execution_count": 5,
   "metadata": {
    "scrolled": true
   },
   "outputs": [
    {
     "data": {
      "text/html": [
       "<div>\n",
       "<style scoped>\n",
       "    .dataframe tbody tr th:only-of-type {\n",
       "        vertical-align: middle;\n",
       "    }\n",
       "\n",
       "    .dataframe tbody tr th {\n",
       "        vertical-align: top;\n",
       "    }\n",
       "\n",
       "    .dataframe thead th {\n",
       "        text-align: right;\n",
       "    }\n",
       "</style>\n",
       "<table border=\"1\" class=\"dataframe\">\n",
       "  <thead>\n",
       "    <tr style=\"text-align: right;\">\n",
       "      <th></th>\n",
       "      <th>YEAR</th>\n",
       "      <th>LOCATION</th>\n",
       "      <th>INBRED</th>\n",
       "      <th>INBRED_CLUSTER</th>\n",
       "      <th>TESTER</th>\n",
       "      <th>TESTER_CLUSTER</th>\n",
       "      <th>YIELD</th>\n",
       "    </tr>\n",
       "  </thead>\n",
       "  <tbody>\n",
       "    <tr>\n",
       "      <th>199471</th>\n",
       "      <td>18</td>\n",
       "      <td>Loc 6532</td>\n",
       "      <td>Inbred_4370</td>\n",
       "      <td>Cluster3</td>\n",
       "      <td>Tester_8254</td>\n",
       "      <td>Cluster7</td>\n",
       "      <td>0.945492</td>\n",
       "    </tr>\n",
       "    <tr>\n",
       "      <th>199472</th>\n",
       "      <td>18</td>\n",
       "      <td>Loc 6634</td>\n",
       "      <td>Inbred_4250</td>\n",
       "      <td>Cluster11</td>\n",
       "      <td>Tester_8254</td>\n",
       "      <td>Cluster7</td>\n",
       "      <td>0.787323</td>\n",
       "    </tr>\n",
       "    <tr>\n",
       "      <th>199473</th>\n",
       "      <td>18</td>\n",
       "      <td>Loc 7528</td>\n",
       "      <td>Inbred_5305</td>\n",
       "      <td>Cluster4</td>\n",
       "      <td>Tester_8254</td>\n",
       "      <td>Cluster7</td>\n",
       "      <td>0.972584</td>\n",
       "    </tr>\n",
       "    <tr>\n",
       "      <th>199474</th>\n",
       "      <td>18</td>\n",
       "      <td>Loc 6421</td>\n",
       "      <td>Inbred_4573</td>\n",
       "      <td>Cluster1</td>\n",
       "      <td>Tester_8254</td>\n",
       "      <td>Cluster7</td>\n",
       "      <td>0.900140</td>\n",
       "    </tr>\n",
       "    <tr>\n",
       "      <th>199475</th>\n",
       "      <td>18</td>\n",
       "      <td>Loc 6609</td>\n",
       "      <td>Inbred_5300</td>\n",
       "      <td>Cluster3</td>\n",
       "      <td>Tester_8254</td>\n",
       "      <td>Cluster7</td>\n",
       "      <td>0.953075</td>\n",
       "    </tr>\n",
       "  </tbody>\n",
       "</table>\n",
       "</div>"
      ],
      "text/plain": [
       "        YEAR  LOCATION       INBRED INBRED_CLUSTER       TESTER  \\\n",
       "199471    18  Loc 6532  Inbred_4370       Cluster3  Tester_8254   \n",
       "199472    18  Loc 6634  Inbred_4250      Cluster11  Tester_8254   \n",
       "199473    18  Loc 7528  Inbred_5305       Cluster4  Tester_8254   \n",
       "199474    18  Loc 6421  Inbred_4573       Cluster1  Tester_8254   \n",
       "199475    18  Loc 6609  Inbred_5300       Cluster3  Tester_8254   \n",
       "\n",
       "       TESTER_CLUSTER     YIELD  \n",
       "199471       Cluster7  0.945492  \n",
       "199472       Cluster7  0.787323  \n",
       "199473       Cluster7  0.972584  \n",
       "199474       Cluster7  0.900140  \n",
       "199475       Cluster7  0.953075  "
      ]
     },
     "execution_count": 5,
     "metadata": {},
     "output_type": "execute_result"
    }
   ],
   "source": [
    "crop_data.tail()"
   ]
  },
  {
   "cell_type": "code",
   "execution_count": 6,
   "metadata": {},
   "outputs": [
    {
     "data": {
      "text/html": [
       "<div>\n",
       "<style scoped>\n",
       "    .dataframe tbody tr th:only-of-type {\n",
       "        vertical-align: middle;\n",
       "    }\n",
       "\n",
       "    .dataframe tbody tr th {\n",
       "        vertical-align: top;\n",
       "    }\n",
       "\n",
       "    .dataframe thead th {\n",
       "        text-align: right;\n",
       "    }\n",
       "</style>\n",
       "<table border=\"1\" class=\"dataframe\">\n",
       "  <thead>\n",
       "    <tr style=\"text-align: right;\">\n",
       "      <th></th>\n",
       "      <th>YEAR</th>\n",
       "      <th>YIELD</th>\n",
       "    </tr>\n",
       "  </thead>\n",
       "  <tbody>\n",
       "    <tr>\n",
       "      <th>count</th>\n",
       "      <td>199476.000000</td>\n",
       "      <td>199476.000000</td>\n",
       "    </tr>\n",
       "    <tr>\n",
       "      <th>mean</th>\n",
       "      <td>17.160551</td>\n",
       "      <td>1.001731</td>\n",
       "    </tr>\n",
       "    <tr>\n",
       "      <th>std</th>\n",
       "      <td>0.741779</td>\n",
       "      <td>0.104722</td>\n",
       "    </tr>\n",
       "    <tr>\n",
       "      <th>min</th>\n",
       "      <td>16.000000</td>\n",
       "      <td>0.047236</td>\n",
       "    </tr>\n",
       "    <tr>\n",
       "      <th>25%</th>\n",
       "      <td>17.000000</td>\n",
       "      <td>0.941870</td>\n",
       "    </tr>\n",
       "    <tr>\n",
       "      <th>50%</th>\n",
       "      <td>17.000000</td>\n",
       "      <td>1.003277</td>\n",
       "    </tr>\n",
       "    <tr>\n",
       "      <th>75%</th>\n",
       "      <td>18.000000</td>\n",
       "      <td>1.064073</td>\n",
       "    </tr>\n",
       "    <tr>\n",
       "      <th>max</th>\n",
       "      <td>18.000000</td>\n",
       "      <td>1.800083</td>\n",
       "    </tr>\n",
       "  </tbody>\n",
       "</table>\n",
       "</div>"
      ],
      "text/plain": [
       "                YEAR          YIELD\n",
       "count  199476.000000  199476.000000\n",
       "mean       17.160551       1.001731\n",
       "std         0.741779       0.104722\n",
       "min        16.000000       0.047236\n",
       "25%        17.000000       0.941870\n",
       "50%        17.000000       1.003277\n",
       "75%        18.000000       1.064073\n",
       "max        18.000000       1.800083"
      ]
     },
     "execution_count": 6,
     "metadata": {},
     "output_type": "execute_result"
    }
   ],
   "source": [
    "crop_data.describe()\n"
   ]
  },
  {
   "cell_type": "code",
   "execution_count": 7,
   "metadata": {},
   "outputs": [
    {
     "name": "stdout",
     "output_type": "stream",
     "text": [
      "<class 'pandas.core.frame.DataFrame'>\n",
      "RangeIndex: 199476 entries, 0 to 199475\n",
      "Data columns (total 7 columns):\n",
      "YEAR              199476 non-null int64\n",
      "LOCATION          199476 non-null object\n",
      "INBRED            199476 non-null object\n",
      "INBRED_CLUSTER    199476 non-null object\n",
      "TESTER            199476 non-null object\n",
      "TESTER_CLUSTER    199476 non-null object\n",
      "YIELD             199476 non-null float64\n",
      "dtypes: float64(1), int64(1), object(5)\n",
      "memory usage: 10.7+ MB\n"
     ]
    }
   ],
   "source": [
    "crop_data.info()"
   ]
  },
  {
   "cell_type": "code",
   "execution_count": 13,
   "metadata": {},
   "outputs": [
    {
     "data": {
      "image/png": "[encoded data removed]",
      "text/plain": [
       "<Figure size 1080x720 with 2 Axes>"
      ]
     },
     "metadata": {
      "needs_background": "light"
     },
     "output_type": "display_data"
    }
   ],
   "source": [
    "#graphical visualization\n",
    "graphs= crop_data.hist(bins=40, figsize=(15, 10))"
   ]
  }
 ],
 "metadata": {
  "kernelspec": {
   "display_name": "Python 3",
   "language": "python",
   "name": "python3"
  },
  "language_info": {
   "codemirror_mode": {
    "name": "ipython",
    "version": 3
   },
   "file_extension": ".py",
   "mimetype": "text/x-python",
   "name": "python",
   "nbconvert_exporter": "python",
   "pygments_lexer": "ipython3",
   "version": "3.7.1"
  }
 },
 "nbformat": 4,
 "nbformat_minor": 2
}
