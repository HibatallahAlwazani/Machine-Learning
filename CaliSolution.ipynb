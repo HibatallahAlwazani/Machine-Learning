{
 "cells": [
  {
   "cell_type": "code",
   "execution_count": 1,
   "metadata": {},
   "outputs": [],
   "source": [
    "import tarfile\n",
    "import urllib\n",
    "\n",
    "import matplotlib.pyplot as plt\n",
    "import numpy as np\n",
    "import pandas as pd\n",
    "from pandas import plotting\n",
    "from scipy import stats\n",
    "from sklearn import base\n",
    "from sklearn import compose, impute, pipeline, preprocessing\n",
    "from sklearn import linear_model, tree, ensemble, svm\n",
    "from sklearn import metrics, model_selection\n",
    "from sklearn.externals import joblib"
   ]
  },
  {
   "cell_type": "code",
   "execution_count": 2,
   "metadata": {},
   "outputs": [],
   "source": [
    "%matplotlib inline"
   ]
  },
  {
   "cell_type": "code",
   "execution_count": 20,
   "metadata": {},
   "outputs": [],
   "source": [
    "def fetch_housing_data(datasets_url):\n",
    "    path, _ = urllib.request.urlretrieve(f\"{datasets_url}/housing/housing.tgz\",\n",
    "                                         \"W2I-machine-learning-bootcamp/data/housing/housing.tgz\")\n",
    "    with tarfile.open(path) as tf:\n",
    "        tf.extractall(\"W2I-machine-learning-bootcamp/data/housing/\")"
   ]
  },
  {
   "cell_type": "code",
   "execution_count": 21,
   "metadata": {},
   "outputs": [],
   "source": [
    "_datasets_url = \"https://raw.githubusercontent.com/ageron/handson-ml/master/datasets\"\n",
    "fetch_housing_data(_datasets_url)"
   ]
  },
  {
   "cell_type": "code",
   "execution_count": 23,
   "metadata": {},
   "outputs": [],
   "source": [
    "_dtype = {\"ocean_proximity\": \"category\"}\n",
    "\n",
    "housing_df = pd.read_csv(\"W2I-machine-learning-bootcamp/data/housing/housing.csv\",\n",
    "                         dtype=_dtype)"
   ]
  },
  {
   "cell_type": "code",
   "execution_count": 25,
   "metadata": {},
   "outputs": [
    {
     "data": {
      "text/html": [
       "<div>\n",
       "<style scoped>\n",
       "    .dataframe tbody tr th:only-of-type {\n",
       "        vertical-align: middle;\n",
       "    }\n",
       "\n",
       "    .dataframe tbody tr th {\n",
       "        vertical-align: top;\n",
       "    }\n",
       "\n",
       "    .dataframe thead th {\n",
       "        text-align: right;\n",
       "    }\n",
       "</style>\n",
       "<table border=\"1\" class=\"dataframe\">\n",
       "  <thead>\n",
       "    <tr style=\"text-align: right;\">\n",
       "      <th></th>\n",
       "      <th>longitude</th>\n",
       "      <th>latitude</th>\n",
       "      <th>housing_median_age</th>\n",
       "      <th>total_rooms</th>\n",
       "      <th>total_bedrooms</th>\n",
       "      <th>population</th>\n",
       "      <th>households</th>\n",
       "      <th>median_income</th>\n",
       "      <th>median_house_value</th>\n",
       "      <th>ocean_proximity</th>\n",
       "    </tr>\n",
       "  </thead>\n",
       "  <tbody>\n",
       "    <tr>\n",
       "      <th>0</th>\n",
       "      <td>-122.23</td>\n",
       "      <td>37.88</td>\n",
       "      <td>41.0</td>\n",
       "      <td>880.0</td>\n",
       "      <td>129.0</td>\n",
       "      <td>322.0</td>\n",
       "      <td>126.0</td>\n",
       "      <td>8.3252</td>\n",
       "      <td>452600.0</td>\n",
       "      <td>NEAR BAY</td>\n",
       "    </tr>\n",
       "    <tr>\n",
       "      <th>1</th>\n",
       "      <td>-122.22</td>\n",
       "      <td>37.86</td>\n",
       "      <td>21.0</td>\n",
       "      <td>7099.0</td>\n",
       "      <td>1106.0</td>\n",
       "      <td>2401.0</td>\n",
       "      <td>1138.0</td>\n",
       "      <td>8.3014</td>\n",
       "      <td>358500.0</td>\n",
       "      <td>NEAR BAY</td>\n",
       "    </tr>\n",
       "    <tr>\n",
       "      <th>2</th>\n",
       "      <td>-122.24</td>\n",
       "      <td>37.85</td>\n",
       "      <td>52.0</td>\n",
       "      <td>1467.0</td>\n",
       "      <td>190.0</td>\n",
       "      <td>496.0</td>\n",
       "      <td>177.0</td>\n",
       "      <td>7.2574</td>\n",
       "      <td>352100.0</td>\n",
       "      <td>NEAR BAY</td>\n",
       "    </tr>\n",
       "    <tr>\n",
       "      <th>3</th>\n",
       "      <td>-122.25</td>\n",
       "      <td>37.85</td>\n",
       "      <td>52.0</td>\n",
       "      <td>1274.0</td>\n",
       "      <td>235.0</td>\n",
       "      <td>558.0</td>\n",
       "      <td>219.0</td>\n",
       "      <td>5.6431</td>\n",
       "      <td>341300.0</td>\n",
       "      <td>NEAR BAY</td>\n",
       "    </tr>\n",
       "    <tr>\n",
       "      <th>4</th>\n",
       "      <td>-122.25</td>\n",
       "      <td>37.85</td>\n",
       "      <td>52.0</td>\n",
       "      <td>1627.0</td>\n",
       "      <td>280.0</td>\n",
       "      <td>565.0</td>\n",
       "      <td>259.0</td>\n",
       "      <td>3.8462</td>\n",
       "      <td>342200.0</td>\n",
       "      <td>NEAR BAY</td>\n",
       "    </tr>\n",
       "  </tbody>\n",
       "</table>\n",
       "</div>"
      ],
      "text/plain": [
       "   longitude  latitude  housing_median_age  total_rooms  total_bedrooms  \\\n",
       "0    -122.23     37.88                41.0        880.0           129.0   \n",
       "1    -122.22     37.86                21.0       7099.0          1106.0   \n",
       "2    -122.24     37.85                52.0       1467.0           190.0   \n",
       "3    -122.25     37.85                52.0       1274.0           235.0   \n",
       "4    -122.25     37.85                52.0       1627.0           280.0   \n",
       "\n",
       "   population  households  median_income  median_house_value ocean_proximity  \n",
       "0       322.0       126.0         8.3252            452600.0        NEAR BAY  \n",
       "1      2401.0      1138.0         8.3014            358500.0        NEAR BAY  \n",
       "2       496.0       177.0         7.2574            352100.0        NEAR BAY  \n",
       "3       558.0       219.0         5.6431            341300.0        NEAR BAY  \n",
       "4       565.0       259.0         3.8462            342200.0        NEAR BAY  "
      ]
     },
     "execution_count": 25,
     "metadata": {},
     "output_type": "execute_result"
    }
   ],
   "source": [
    "housing_df.head()"
   ]
  },
  {
   "cell_type": "code",
   "execution_count": 26,
   "metadata": {},
   "outputs": [
    {
     "data": {
      "text/html": [
       "<div>\n",
       "<style scoped>\n",
       "    .dataframe tbody tr th:only-of-type {\n",
       "        vertical-align: middle;\n",
       "    }\n",
       "\n",
       "    .dataframe tbody tr th {\n",
       "        vertical-align: top;\n",
       "    }\n",
       "\n",
       "    .dataframe thead th {\n",
       "        text-align: right;\n",
       "    }\n",
       "</style>\n",
       "<table border=\"1\" class=\"dataframe\">\n",
       "  <thead>\n",
       "    <tr style=\"text-align: right;\">\n",
       "      <th></th>\n",
       "      <th>longitude</th>\n",
       "      <th>latitude</th>\n",
       "      <th>housing_median_age</th>\n",
       "      <th>total_rooms</th>\n",
       "      <th>total_bedrooms</th>\n",
       "      <th>population</th>\n",
       "      <th>households</th>\n",
       "      <th>median_income</th>\n",
       "      <th>median_house_value</th>\n",
       "      <th>ocean_proximity</th>\n",
       "    </tr>\n",
       "  </thead>\n",
       "  <tbody>\n",
       "    <tr>\n",
       "      <th>20635</th>\n",
       "      <td>-121.09</td>\n",
       "      <td>39.48</td>\n",
       "      <td>25.0</td>\n",
       "      <td>1665.0</td>\n",
       "      <td>374.0</td>\n",
       "      <td>845.0</td>\n",
       "      <td>330.0</td>\n",
       "      <td>1.5603</td>\n",
       "      <td>78100.0</td>\n",
       "      <td>INLAND</td>\n",
       "    </tr>\n",
       "    <tr>\n",
       "      <th>20636</th>\n",
       "      <td>-121.21</td>\n",
       "      <td>39.49</td>\n",
       "      <td>18.0</td>\n",
       "      <td>697.0</td>\n",
       "      <td>150.0</td>\n",
       "      <td>356.0</td>\n",
       "      <td>114.0</td>\n",
       "      <td>2.5568</td>\n",
       "      <td>77100.0</td>\n",
       "      <td>INLAND</td>\n",
       "    </tr>\n",
       "    <tr>\n",
       "      <th>20637</th>\n",
       "      <td>-121.22</td>\n",
       "      <td>39.43</td>\n",
       "      <td>17.0</td>\n",
       "      <td>2254.0</td>\n",
       "      <td>485.0</td>\n",
       "      <td>1007.0</td>\n",
       "      <td>433.0</td>\n",
       "      <td>1.7000</td>\n",
       "      <td>92300.0</td>\n",
       "      <td>INLAND</td>\n",
       "    </tr>\n",
       "    <tr>\n",
       "      <th>20638</th>\n",
       "      <td>-121.32</td>\n",
       "      <td>39.43</td>\n",
       "      <td>18.0</td>\n",
       "      <td>1860.0</td>\n",
       "      <td>409.0</td>\n",
       "      <td>741.0</td>\n",
       "      <td>349.0</td>\n",
       "      <td>1.8672</td>\n",
       "      <td>84700.0</td>\n",
       "      <td>INLAND</td>\n",
       "    </tr>\n",
       "    <tr>\n",
       "      <th>20639</th>\n",
       "      <td>-121.24</td>\n",
       "      <td>39.37</td>\n",
       "      <td>16.0</td>\n",
       "      <td>2785.0</td>\n",
       "      <td>616.0</td>\n",
       "      <td>1387.0</td>\n",
       "      <td>530.0</td>\n",
       "      <td>2.3886</td>\n",
       "      <td>89400.0</td>\n",
       "      <td>INLAND</td>\n",
       "    </tr>\n",
       "  </tbody>\n",
       "</table>\n",
       "</div>"
      ],
      "text/plain": [
       "       longitude  latitude  housing_median_age  total_rooms  total_bedrooms  \\\n",
       "20635    -121.09     39.48                25.0       1665.0           374.0   \n",
       "20636    -121.21     39.49                18.0        697.0           150.0   \n",
       "20637    -121.22     39.43                17.0       2254.0           485.0   \n",
       "20638    -121.32     39.43                18.0       1860.0           409.0   \n",
       "20639    -121.24     39.37                16.0       2785.0           616.0   \n",
       "\n",
       "       population  households  median_income  median_house_value  \\\n",
       "20635       845.0       330.0         1.5603             78100.0   \n",
       "20636       356.0       114.0         2.5568             77100.0   \n",
       "20637      1007.0       433.0         1.7000             92300.0   \n",
       "20638       741.0       349.0         1.8672             84700.0   \n",
       "20639      1387.0       530.0         2.3886             89400.0   \n",
       "\n",
       "      ocean_proximity  \n",
       "20635          INLAND  \n",
       "20636          INLAND  \n",
       "20637          INLAND  \n",
       "20638          INLAND  \n",
       "20639          INLAND  "
      ]
     },
     "execution_count": 26,
     "metadata": {},
     "output_type": "execute_result"
    }
   ],
   "source": [
    "housing_df.tail()"
   ]
  },
  {
   "cell_type": "code",
   "execution_count": 27,
   "metadata": {},
   "outputs": [
    {
     "data": {
      "text/html": [
       "<div>\n",
       "<style scoped>\n",
       "    .dataframe tbody tr th:only-of-type {\n",
       "        vertical-align: middle;\n",
       "    }\n",
       "\n",
       "    .dataframe tbody tr th {\n",
       "        vertical-align: top;\n",
       "    }\n",
       "\n",
       "    .dataframe thead th {\n",
       "        text-align: right;\n",
       "    }\n",
       "</style>\n",
       "<table border=\"1\" class=\"dataframe\">\n",
       "  <thead>\n",
       "    <tr style=\"text-align: right;\">\n",
       "      <th></th>\n",
       "      <th>longitude</th>\n",
       "      <th>latitude</th>\n",
       "      <th>housing_median_age</th>\n",
       "      <th>total_rooms</th>\n",
       "      <th>total_bedrooms</th>\n",
       "      <th>population</th>\n",
       "      <th>households</th>\n",
       "      <th>median_income</th>\n",
       "      <th>median_house_value</th>\n",
       "    </tr>\n",
       "  </thead>\n",
       "  <tbody>\n",
       "    <tr>\n",
       "      <th>count</th>\n",
       "      <td>20640.000000</td>\n",
       "      <td>20640.000000</td>\n",
       "      <td>20640.000000</td>\n",
       "      <td>20640.000000</td>\n",
       "      <td>20433.000000</td>\n",
       "      <td>20640.000000</td>\n",
       "      <td>20640.000000</td>\n",
       "      <td>20640.000000</td>\n",
       "      <td>20640.000000</td>\n",
       "    </tr>\n",
       "    <tr>\n",
       "      <th>mean</th>\n",
       "      <td>-119.569704</td>\n",
       "      <td>35.631861</td>\n",
       "      <td>28.639486</td>\n",
       "      <td>2635.763081</td>\n",
       "      <td>537.870553</td>\n",
       "      <td>1425.476744</td>\n",
       "      <td>499.539680</td>\n",
       "      <td>3.870671</td>\n",
       "      <td>206855.816909</td>\n",
       "    </tr>\n",
       "    <tr>\n",
       "      <th>std</th>\n",
       "      <td>2.003532</td>\n",
       "      <td>2.135952</td>\n",
       "      <td>12.585558</td>\n",
       "      <td>2181.615252</td>\n",
       "      <td>421.385070</td>\n",
       "      <td>1132.462122</td>\n",
       "      <td>382.329753</td>\n",
       "      <td>1.899822</td>\n",
       "      <td>115395.615874</td>\n",
       "    </tr>\n",
       "    <tr>\n",
       "      <th>min</th>\n",
       "      <td>-124.350000</td>\n",
       "      <td>32.540000</td>\n",
       "      <td>1.000000</td>\n",
       "      <td>2.000000</td>\n",
       "      <td>1.000000</td>\n",
       "      <td>3.000000</td>\n",
       "      <td>1.000000</td>\n",
       "      <td>0.499900</td>\n",
       "      <td>14999.000000</td>\n",
       "    </tr>\n",
       "    <tr>\n",
       "      <th>25%</th>\n",
       "      <td>-121.800000</td>\n",
       "      <td>33.930000</td>\n",
       "      <td>18.000000</td>\n",
       "      <td>1447.750000</td>\n",
       "      <td>296.000000</td>\n",
       "      <td>787.000000</td>\n",
       "      <td>280.000000</td>\n",
       "      <td>2.563400</td>\n",
       "      <td>119600.000000</td>\n",
       "    </tr>\n",
       "    <tr>\n",
       "      <th>50%</th>\n",
       "      <td>-118.490000</td>\n",
       "      <td>34.260000</td>\n",
       "      <td>29.000000</td>\n",
       "      <td>2127.000000</td>\n",
       "      <td>435.000000</td>\n",
       "      <td>1166.000000</td>\n",
       "      <td>409.000000</td>\n",
       "      <td>3.534800</td>\n",
       "      <td>179700.000000</td>\n",
       "    </tr>\n",
       "    <tr>\n",
       "      <th>75%</th>\n",
       "      <td>-118.010000</td>\n",
       "      <td>37.710000</td>\n",
       "      <td>37.000000</td>\n",
       "      <td>3148.000000</td>\n",
       "      <td>647.000000</td>\n",
       "      <td>1725.000000</td>\n",
       "      <td>605.000000</td>\n",
       "      <td>4.743250</td>\n",
       "      <td>264725.000000</td>\n",
       "    </tr>\n",
       "    <tr>\n",
       "      <th>max</th>\n",
       "      <td>-114.310000</td>\n",
       "      <td>41.950000</td>\n",
       "      <td>52.000000</td>\n",
       "      <td>39320.000000</td>\n",
       "      <td>6445.000000</td>\n",
       "      <td>35682.000000</td>\n",
       "      <td>6082.000000</td>\n",
       "      <td>15.000100</td>\n",
       "      <td>500001.000000</td>\n",
       "    </tr>\n",
       "  </tbody>\n",
       "</table>\n",
       "</div>"
      ],
      "text/plain": [
       "          longitude      latitude  housing_median_age   total_rooms  \\\n",
       "count  20640.000000  20640.000000        20640.000000  20640.000000   \n",
       "mean    -119.569704     35.631861           28.639486   2635.763081   \n",
       "std        2.003532      2.135952           12.585558   2181.615252   \n",
       "min     -124.350000     32.540000            1.000000      2.000000   \n",
       "25%     -121.800000     33.930000           18.000000   1447.750000   \n",
       "50%     -118.490000     34.260000           29.000000   2127.000000   \n",
       "75%     -118.010000     37.710000           37.000000   3148.000000   \n",
       "max     -114.310000     41.950000           52.000000  39320.000000   \n",
       "\n",
       "       total_bedrooms    population    households  median_income  \\\n",
       "count    20433.000000  20640.000000  20640.000000   20640.000000   \n",
       "mean       537.870553   1425.476744    499.539680       3.870671   \n",
       "std        421.385070   1132.462122    382.329753       1.899822   \n",
       "min          1.000000      3.000000      1.000000       0.499900   \n",
       "25%        296.000000    787.000000    280.000000       2.563400   \n",
       "50%        435.000000   1166.000000    409.000000       3.534800   \n",
       "75%        647.000000   1725.000000    605.000000       4.743250   \n",
       "max       6445.000000  35682.000000   6082.000000      15.000100   \n",
       "\n",
       "       median_house_value  \n",
       "count        20640.000000  \n",
       "mean        206855.816909  \n",
       "std         115395.615874  \n",
       "min          14999.000000  \n",
       "25%         119600.000000  \n",
       "50%         179700.000000  \n",
       "75%         264725.000000  \n",
       "max         500001.000000  "
      ]
     },
     "execution_count": 27,
     "metadata": {},
     "output_type": "execute_result"
    }
   ],
   "source": [
    "housing_df.describe()"
   ]
  },
  {
   "cell_type": "code",
   "execution_count": 28,
   "metadata": {},
   "outputs": [
    {
     "name": "stdout",
     "output_type": "stream",
     "text": [
      "<class 'pandas.core.frame.DataFrame'>\n",
      "RangeIndex: 20640 entries, 0 to 20639\n",
      "Data columns (total 10 columns):\n",
      "longitude             20640 non-null float64\n",
      "latitude              20640 non-null float64\n",
      "housing_median_age    20640 non-null float64\n",
      "total_rooms           20640 non-null float64\n",
      "total_bedrooms        20433 non-null float64\n",
      "population            20640 non-null float64\n",
      "households            20640 non-null float64\n",
      "median_income         20640 non-null float64\n",
      "median_house_value    20640 non-null float64\n",
      "ocean_proximity       20640 non-null category\n",
      "dtypes: category(1), float64(9)\n",
      "memory usage: 1.4 MB\n"
     ]
    }
   ],
   "source": [
    "housing_df.info()"
   ]
  },
  {
   "cell_type": "code",
   "execution_count": 29,
   "metadata": {},
   "outputs": [
    {
     "data": {
      "text/plain": [
       "<1H OCEAN     9136\n",
       "INLAND        6551\n",
       "NEAR OCEAN    2658\n",
       "NEAR BAY      2290\n",
       "ISLAND           5\n",
       "Name: ocean_proximity, dtype: int64"
      ]
     },
     "execution_count": 29,
     "metadata": {},
     "output_type": "execute_result"
    }
   ],
   "source": [
    "(housing_df.get(\"ocean_proximity\")\n",
    "           .value_counts())"
   ]
  },
  {
   "cell_type": "code",
   "execution_count": 30,
   "metadata": {},
   "outputs": [
    {
     "data": {
      "image/png": "[encoded data removed]",
      "text/plain": [
       "<Figure size 1440x1080 with 9 Axes>"
      ]
     },
     "metadata": {
      "needs_background": "light"
     },
     "output_type": "display_data"
    }
   ],
   "source": [
    "_ = housing_df.hist(bins=50, figsize=(20, 15))"
   ]
  },
  {
   "cell_type": "code",
   "execution_count": 31,
   "metadata": {},
   "outputs": [],
   "source": [
    "preprocessing.KBinsDiscretizer?"
   ]
  },
  {
   "cell_type": "code",
   "execution_count": 1,
   "metadata": {},
   "outputs": [
    {
     "name": "stdout",
     "output_type": "stream",
     "text": [
      "Object `model_selection.train_test_split` not found.\n"
     ]
    }
   ],
   "source": [
    "model_selection.train_test_split?"
   ]
  },
  {
   "cell_type": "code",
   "execution_count": 33,
   "metadata": {},
   "outputs": [],
   "source": [
    "_prng = np.random.RandomState(42)\n",
    "\n",
    "# discretize a continuous variable and use result for stratified sampling!\n",
    "_discretizer = preprocessing.KBinsDiscretizer(n_bins=5, encode=\"ordinal\")\n",
    "_stratify = _discretizer.fit_transform(housing_df.loc[:, [\"median_income\"]])\n",
    "\n",
    "training_df, testing_df = model_selection.train_test_split(housing_df,\n",
    "                                                           test_size=0.20,\n",
    "                                                           stratify= _stratify,\n",
    "                                                           random_state=_prng)"
   ]
  },
  {
   "cell_type": "code",
   "execution_count": 34,
   "metadata": {},
   "outputs": [
    {
     "data": {
      "text/html": [
       "<div>\n",
       "<style scoped>\n",
       "    .dataframe tbody tr th:only-of-type {\n",
       "        vertical-align: middle;\n",
       "    }\n",
       "\n",
       "    .dataframe tbody tr th {\n",
       "        vertical-align: top;\n",
       "    }\n",
       "\n",
       "    .dataframe thead th {\n",
       "        text-align: right;\n",
       "    }\n",
       "</style>\n",
       "<table border=\"1\" class=\"dataframe\">\n",
       "  <thead>\n",
       "    <tr style=\"text-align: right;\">\n",
       "      <th></th>\n",
       "      <th>longitude</th>\n",
       "      <th>latitude</th>\n",
       "      <th>housing_median_age</th>\n",
       "      <th>total_rooms</th>\n",
       "      <th>total_bedrooms</th>\n",
       "      <th>population</th>\n",
       "      <th>households</th>\n",
       "      <th>median_income</th>\n",
       "      <th>median_house_value</th>\n",
       "      <th>ocean_proximity</th>\n",
       "    </tr>\n",
       "  </thead>\n",
       "  <tbody>\n",
       "    <tr>\n",
       "      <th>12679</th>\n",
       "      <td>-121.38</td>\n",
       "      <td>38.55</td>\n",
       "      <td>26.0</td>\n",
       "      <td>1532.0</td>\n",
       "      <td>264.0</td>\n",
       "      <td>781.0</td>\n",
       "      <td>285.0</td>\n",
       "      <td>4.6944</td>\n",
       "      <td>130900.0</td>\n",
       "      <td>INLAND</td>\n",
       "    </tr>\n",
       "    <tr>\n",
       "      <th>17105</th>\n",
       "      <td>-122.22</td>\n",
       "      <td>37.46</td>\n",
       "      <td>13.0</td>\n",
       "      <td>2888.0</td>\n",
       "      <td>546.0</td>\n",
       "      <td>1182.0</td>\n",
       "      <td>504.0</td>\n",
       "      <td>6.0255</td>\n",
       "      <td>409300.0</td>\n",
       "      <td>NEAR OCEAN</td>\n",
       "    </tr>\n",
       "    <tr>\n",
       "      <th>8899</th>\n",
       "      <td>-118.49</td>\n",
       "      <td>34.02</td>\n",
       "      <td>29.0</td>\n",
       "      <td>2709.0</td>\n",
       "      <td>799.0</td>\n",
       "      <td>1238.0</td>\n",
       "      <td>793.0</td>\n",
       "      <td>3.1563</td>\n",
       "      <td>330000.0</td>\n",
       "      <td>&lt;1H OCEAN</td>\n",
       "    </tr>\n",
       "    <tr>\n",
       "      <th>5986</th>\n",
       "      <td>-117.71</td>\n",
       "      <td>34.10</td>\n",
       "      <td>52.0</td>\n",
       "      <td>567.0</td>\n",
       "      <td>152.0</td>\n",
       "      <td>2688.0</td>\n",
       "      <td>126.0</td>\n",
       "      <td>1.8750</td>\n",
       "      <td>212500.0</td>\n",
       "      <td>INLAND</td>\n",
       "    </tr>\n",
       "    <tr>\n",
       "      <th>18138</th>\n",
       "      <td>-122.00</td>\n",
       "      <td>37.34</td>\n",
       "      <td>31.0</td>\n",
       "      <td>3344.0</td>\n",
       "      <td>620.0</td>\n",
       "      <td>1604.0</td>\n",
       "      <td>572.0</td>\n",
       "      <td>5.2108</td>\n",
       "      <td>351500.0</td>\n",
       "      <td>&lt;1H OCEAN</td>\n",
       "    </tr>\n",
       "  </tbody>\n",
       "</table>\n",
       "</div>"
      ],
      "text/plain": [
       "       longitude  latitude  housing_median_age  total_rooms  total_bedrooms  \\\n",
       "12679    -121.38     38.55                26.0       1532.0           264.0   \n",
       "17105    -122.22     37.46                13.0       2888.0           546.0   \n",
       "8899     -118.49     34.02                29.0       2709.0           799.0   \n",
       "5986     -117.71     34.10                52.0        567.0           152.0   \n",
       "18138    -122.00     37.34                31.0       3344.0           620.0   \n",
       "\n",
       "       population  households  median_income  median_house_value  \\\n",
       "12679       781.0       285.0         4.6944            130900.0   \n",
       "17105      1182.0       504.0         6.0255            409300.0   \n",
       "8899       1238.0       793.0         3.1563            330000.0   \n",
       "5986       2688.0       126.0         1.8750            212500.0   \n",
       "18138      1604.0       572.0         5.2108            351500.0   \n",
       "\n",
       "      ocean_proximity  \n",
       "12679          INLAND  \n",
       "17105      NEAR OCEAN  \n",
       "8899        <1H OCEAN  \n",
       "5986           INLAND  \n",
       "18138       <1H OCEAN  "
      ]
     },
     "execution_count": 34,
     "metadata": {},
     "output_type": "execute_result"
    }
   ],
   "source": [
    "training_df.head()"
   ]
  },
  {
   "cell_type": "code",
   "execution_count": 35,
   "metadata": {},
   "outputs": [
    {
     "name": "stdout",
     "output_type": "stream",
     "text": [
      "<class 'pandas.core.frame.DataFrame'>\n",
      "Int64Index: 16512 entries, 12679 to 9925\n",
      "Data columns (total 10 columns):\n",
      "longitude             16512 non-null float64\n",
      "latitude              16512 non-null float64\n",
      "housing_median_age    16512 non-null float64\n",
      "total_rooms           16512 non-null float64\n",
      "total_bedrooms        16350 non-null float64\n",
      "population            16512 non-null float64\n",
      "households            16512 non-null float64\n",
      "median_income         16512 non-null float64\n",
      "median_house_value    16512 non-null float64\n",
      "ocean_proximity       16512 non-null category\n",
      "dtypes: category(1), float64(9)\n",
      "memory usage: 1.3 MB\n"
     ]
    }
   ],
   "source": [
    "training_df.info()"
   ]
  },
  {
   "cell_type": "code",
   "execution_count": 36,
   "metadata": {},
   "outputs": [
    {
     "data": {
      "text/html": [
       "<div>\n",
       "<style scoped>\n",
       "    .dataframe tbody tr th:only-of-type {\n",
       "        vertical-align: middle;\n",
       "    }\n",
       "\n",
       "    .dataframe tbody tr th {\n",
       "        vertical-align: top;\n",
       "    }\n",
       "\n",
       "    .dataframe thead th {\n",
       "        text-align: right;\n",
       "    }\n",
       "</style>\n",
       "<table border=\"1\" class=\"dataframe\">\n",
       "  <thead>\n",
       "    <tr style=\"text-align: right;\">\n",
       "      <th></th>\n",
       "      <th>longitude</th>\n",
       "      <th>latitude</th>\n",
       "      <th>housing_median_age</th>\n",
       "      <th>total_rooms</th>\n",
       "      <th>total_bedrooms</th>\n",
       "      <th>population</th>\n",
       "      <th>households</th>\n",
       "      <th>median_income</th>\n",
       "      <th>median_house_value</th>\n",
       "      <th>ocean_proximity</th>\n",
       "    </tr>\n",
       "  </thead>\n",
       "  <tbody>\n",
       "    <tr>\n",
       "      <th>15497</th>\n",
       "      <td>-117.24</td>\n",
       "      <td>33.11</td>\n",
       "      <td>10.0</td>\n",
       "      <td>3487.0</td>\n",
       "      <td>545.0</td>\n",
       "      <td>1410.0</td>\n",
       "      <td>557.0</td>\n",
       "      <td>6.0336</td>\n",
       "      <td>240300.0</td>\n",
       "      <td>NEAR OCEAN</td>\n",
       "    </tr>\n",
       "    <tr>\n",
       "      <th>18440</th>\n",
       "      <td>-121.81</td>\n",
       "      <td>37.24</td>\n",
       "      <td>21.0</td>\n",
       "      <td>3250.0</td>\n",
       "      <td>610.0</td>\n",
       "      <td>1978.0</td>\n",
       "      <td>568.0</td>\n",
       "      <td>4.5000</td>\n",
       "      <td>234400.0</td>\n",
       "      <td>&lt;1H OCEAN</td>\n",
       "    </tr>\n",
       "    <tr>\n",
       "      <th>15636</th>\n",
       "      <td>-122.41</td>\n",
       "      <td>37.80</td>\n",
       "      <td>52.0</td>\n",
       "      <td>3697.0</td>\n",
       "      <td>837.0</td>\n",
       "      <td>1446.0</td>\n",
       "      <td>711.0</td>\n",
       "      <td>5.8660</td>\n",
       "      <td>500001.0</td>\n",
       "      <td>NEAR BAY</td>\n",
       "    </tr>\n",
       "    <tr>\n",
       "      <th>6365</th>\n",
       "      <td>-117.97</td>\n",
       "      <td>34.17</td>\n",
       "      <td>35.0</td>\n",
       "      <td>5005.0</td>\n",
       "      <td>848.0</td>\n",
       "      <td>2112.0</td>\n",
       "      <td>813.0</td>\n",
       "      <td>4.9968</td>\n",
       "      <td>295000.0</td>\n",
       "      <td>INLAND</td>\n",
       "    </tr>\n",
       "    <tr>\n",
       "      <th>16174</th>\n",
       "      <td>-122.36</td>\n",
       "      <td>37.72</td>\n",
       "      <td>10.0</td>\n",
       "      <td>479.0</td>\n",
       "      <td>125.0</td>\n",
       "      <td>355.0</td>\n",
       "      <td>108.0</td>\n",
       "      <td>2.7083</td>\n",
       "      <td>180400.0</td>\n",
       "      <td>NEAR BAY</td>\n",
       "    </tr>\n",
       "  </tbody>\n",
       "</table>\n",
       "</div>"
      ],
      "text/plain": [
       "       longitude  latitude  housing_median_age  total_rooms  total_bedrooms  \\\n",
       "15497    -117.24     33.11                10.0       3487.0           545.0   \n",
       "18440    -121.81     37.24                21.0       3250.0           610.0   \n",
       "15636    -122.41     37.80                52.0       3697.0           837.0   \n",
       "6365     -117.97     34.17                35.0       5005.0           848.0   \n",
       "16174    -122.36     37.72                10.0        479.0           125.0   \n",
       "\n",
       "       population  households  median_income  median_house_value  \\\n",
       "15497      1410.0       557.0         6.0336            240300.0   \n",
       "18440      1978.0       568.0         4.5000            234400.0   \n",
       "15636      1446.0       711.0         5.8660            500001.0   \n",
       "6365       2112.0       813.0         4.9968            295000.0   \n",
       "16174       355.0       108.0         2.7083            180400.0   \n",
       "\n",
       "      ocean_proximity  \n",
       "15497      NEAR OCEAN  \n",
       "18440       <1H OCEAN  \n",
       "15636        NEAR BAY  \n",
       "6365           INLAND  \n",
       "16174        NEAR BAY  "
      ]
     },
     "execution_count": 36,
     "metadata": {},
     "output_type": "execute_result"
    }
   ],
   "source": [
    "testing_df.head()"
   ]
  },
  {
   "cell_type": "code",
   "execution_count": 37,
   "metadata": {},
   "outputs": [
    {
     "name": "stdout",
     "output_type": "stream",
     "text": [
      "<class 'pandas.core.frame.DataFrame'>\n",
      "Int64Index: 4128 entries, 15497 to 7134\n",
      "Data columns (total 10 columns):\n",
      "longitude             4128 non-null float64\n",
      "latitude              4128 non-null float64\n",
      "housing_median_age    4128 non-null float64\n",
      "total_rooms           4128 non-null float64\n",
      "total_bedrooms        4083 non-null float64\n",
      "population            4128 non-null float64\n",
      "households            4128 non-null float64\n",
      "median_income         4128 non-null float64\n",
      "median_house_value    4128 non-null float64\n",
      "ocean_proximity       4128 non-null category\n",
      "dtypes: category(1), float64(9)\n",
      "memory usage: 326.7 KB\n"
     ]
    }
   ],
   "source": [
    "testing_df.info()"
   ]
  },
  {
   "cell_type": "code",
   "execution_count": 39,
   "metadata": {},
   "outputs": [],
   "source": [
    "    _ = joblib.dump(training_df, \"W2I-machine-learning-bootcamp/data/housing/training.pkl\")\n",
    "_ = joblib.dump(testing_df, \"W2I-machine-learning-bootcamp/data/housing/testing.pkl\")"
   ]
  },
  {
   "cell_type": "code",
   "execution_count": 40,
   "metadata": {},
   "outputs": [],
   "source": [
    "housing = training_df.copy()"
   ]
  },
  {
   "cell_type": "code",
   "execution_count": 44,
   "metadata": {},
   "outputs": [
    {
     "data": {
      "text/plain": [
       "<matplotlib.axes._subplots.AxesSubplot at 0x1a1ca6c080>"
      ]
     },
     "execution_count": 44,
     "metadata": {},
     "output_type": "execute_result"
    },
    {
     "data": {
      "image/png": "[encoded data removed]",
      "text/plain": [
       "<Figure size 432x288 with 1 Axes>"
      ]
     },
     "metadata": {
      "needs_background": "light"
     },
     "output_type": "display_data"
    }
   ],
   "source": [
    "housing.plot(kind=\"scatter\",x=\"longitude\", y=\"latitude\", alpha=0.5)"
   ]
  },
  {
   "cell_type": "code",
   "execution_count": 45,
   "metadata": {},
   "outputs": [
    {
     "data": {
      "text/plain": [
       "<matplotlib.legend.Legend at 0x1a1cac1da0>"
      ]
     },
     "execution_count": 45,
     "metadata": {},
     "output_type": "execute_result"
    },
    {
     "data": {
      "image/png": "[encoded data removed]",
      "text/plain": [
       "<Figure size 432x288 with 2 Axes>"
      ]
     },
     "metadata": {
      "needs_background": "light"
     },
     "output_type": "display_data"
    }
   ],
   "source": [
    "housing.plot(kind=\"scatter\",x=\"longitude\", y=\"latitude\",alpha=0.4,\n",
    "            s=housing[\"population\"]/100,label=\"population\",\n",
    "            c='median_house_value',cmap=plt.get_cmap(\"jet\"), colorbar=True,\n",
    "            )\n",
    "plt.legend()"
   ]
  },
  {
   "cell_type": "code",
   "execution_count": 46,
   "metadata": {},
   "outputs": [
    {
     "name": "stdout",
     "output_type": "stream",
     "text": [
      "Object `cmap` not found.\n"
     ]
    }
   ],
   "source": [
    "cmap?"
   ]
  },
  {
   "cell_type": "code",
   "execution_count": 47,
   "metadata": {},
   "outputs": [],
   "source": [
    "plt.get_cmap?"
   ]
  },
  {
   "cell_type": "code",
   "execution_count": 48,
   "metadata": {},
   "outputs": [],
   "source": [
    "corr_matrix=housing.corr()"
   ]
  },
  {
   "cell_type": "code",
   "execution_count": 49,
   "metadata": {},
   "outputs": [
    {
     "data": {
      "text/html": [
       "<div>\n",
       "<style scoped>\n",
       "    .dataframe tbody tr th:only-of-type {\n",
       "        vertical-align: middle;\n",
       "    }\n",
       "\n",
       "    .dataframe tbody tr th {\n",
       "        vertical-align: top;\n",
       "    }\n",
       "\n",
       "    .dataframe thead th {\n",
       "        text-align: right;\n",
       "    }\n",
       "</style>\n",
       "<table border=\"1\" class=\"dataframe\">\n",
       "  <thead>\n",
       "    <tr style=\"text-align: right;\">\n",
       "      <th></th>\n",
       "      <th>longitude</th>\n",
       "      <th>latitude</th>\n",
       "      <th>housing_median_age</th>\n",
       "      <th>total_rooms</th>\n",
       "      <th>total_bedrooms</th>\n",
       "      <th>population</th>\n",
       "      <th>households</th>\n",
       "      <th>median_income</th>\n",
       "      <th>median_house_value</th>\n",
       "    </tr>\n",
       "  </thead>\n",
       "  <tbody>\n",
       "    <tr>\n",
       "      <th>longitude</th>\n",
       "      <td>1.000000</td>\n",
       "      <td>-0.925307</td>\n",
       "      <td>-0.108482</td>\n",
       "      <td>0.041635</td>\n",
       "      <td>0.066342</td>\n",
       "      <td>0.097790</td>\n",
       "      <td>0.051908</td>\n",
       "      <td>-0.013316</td>\n",
       "      <td>-0.047342</td>\n",
       "    </tr>\n",
       "    <tr>\n",
       "      <th>latitude</th>\n",
       "      <td>-0.925307</td>\n",
       "      <td>1.000000</td>\n",
       "      <td>0.010790</td>\n",
       "      <td>-0.034190</td>\n",
       "      <td>-0.065071</td>\n",
       "      <td>-0.106151</td>\n",
       "      <td>-0.067870</td>\n",
       "      <td>-0.081118</td>\n",
       "      <td>-0.141608</td>\n",
       "    </tr>\n",
       "    <tr>\n",
       "      <th>housing_median_age</th>\n",
       "      <td>-0.108482</td>\n",
       "      <td>0.010790</td>\n",
       "      <td>1.000000</td>\n",
       "      <td>-0.362012</td>\n",
       "      <td>-0.319578</td>\n",
       "      <td>-0.297193</td>\n",
       "      <td>-0.302818</td>\n",
       "      <td>-0.118487</td>\n",
       "      <td>0.105510</td>\n",
       "    </tr>\n",
       "    <tr>\n",
       "      <th>total_rooms</th>\n",
       "      <td>0.041635</td>\n",
       "      <td>-0.034190</td>\n",
       "      <td>-0.362012</td>\n",
       "      <td>1.000000</td>\n",
       "      <td>0.929101</td>\n",
       "      <td>0.856395</td>\n",
       "      <td>0.919089</td>\n",
       "      <td>0.191636</td>\n",
       "      <td>0.129003</td>\n",
       "    </tr>\n",
       "    <tr>\n",
       "      <th>total_bedrooms</th>\n",
       "      <td>0.066342</td>\n",
       "      <td>-0.065071</td>\n",
       "      <td>-0.319578</td>\n",
       "      <td>0.929101</td>\n",
       "      <td>1.000000</td>\n",
       "      <td>0.877964</td>\n",
       "      <td>0.981910</td>\n",
       "      <td>-0.013849</td>\n",
       "      <td>0.045316</td>\n",
       "    </tr>\n",
       "    <tr>\n",
       "      <th>population</th>\n",
       "      <td>0.097790</td>\n",
       "      <td>-0.106151</td>\n",
       "      <td>-0.297193</td>\n",
       "      <td>0.856395</td>\n",
       "      <td>0.877964</td>\n",
       "      <td>1.000000</td>\n",
       "      <td>0.905078</td>\n",
       "      <td>-0.002026</td>\n",
       "      <td>-0.031397</td>\n",
       "    </tr>\n",
       "    <tr>\n",
       "      <th>households</th>\n",
       "      <td>0.051908</td>\n",
       "      <td>-0.067870</td>\n",
       "      <td>-0.302818</td>\n",
       "      <td>0.919089</td>\n",
       "      <td>0.981910</td>\n",
       "      <td>0.905078</td>\n",
       "      <td>1.000000</td>\n",
       "      <td>0.005407</td>\n",
       "      <td>0.059780</td>\n",
       "    </tr>\n",
       "    <tr>\n",
       "      <th>median_income</th>\n",
       "      <td>-0.013316</td>\n",
       "      <td>-0.081118</td>\n",
       "      <td>-0.118487</td>\n",
       "      <td>0.191636</td>\n",
       "      <td>-0.013849</td>\n",
       "      <td>-0.002026</td>\n",
       "      <td>0.005407</td>\n",
       "      <td>1.000000</td>\n",
       "      <td>0.686663</td>\n",
       "    </tr>\n",
       "    <tr>\n",
       "      <th>median_house_value</th>\n",
       "      <td>-0.047342</td>\n",
       "      <td>-0.141608</td>\n",
       "      <td>0.105510</td>\n",
       "      <td>0.129003</td>\n",
       "      <td>0.045316</td>\n",
       "      <td>-0.031397</td>\n",
       "      <td>0.059780</td>\n",
       "      <td>0.686663</td>\n",
       "      <td>1.000000</td>\n",
       "    </tr>\n",
       "  </tbody>\n",
       "</table>\n",
       "</div>"
      ],
      "text/plain": [
       "                    longitude  latitude  housing_median_age  total_rooms  \\\n",
       "longitude            1.000000 -0.925307           -0.108482     0.041635   \n",
       "latitude            -0.925307  1.000000            0.010790    -0.034190   \n",
       "housing_median_age  -0.108482  0.010790            1.000000    -0.362012   \n",
       "total_rooms          0.041635 -0.034190           -0.362012     1.000000   \n",
       "total_bedrooms       0.066342 -0.065071           -0.319578     0.929101   \n",
       "population           0.097790 -0.106151           -0.297193     0.856395   \n",
       "households           0.051908 -0.067870           -0.302818     0.919089   \n",
       "median_income       -0.013316 -0.081118           -0.118487     0.191636   \n",
       "median_house_value  -0.047342 -0.141608            0.105510     0.129003   \n",
       "\n",
       "                    total_bedrooms  population  households  median_income  \\\n",
       "longitude                 0.066342    0.097790    0.051908      -0.013316   \n",
       "latitude                 -0.065071   -0.106151   -0.067870      -0.081118   \n",
       "housing_median_age       -0.319578   -0.297193   -0.302818      -0.118487   \n",
       "total_rooms               0.929101    0.856395    0.919089       0.191636   \n",
       "total_bedrooms            1.000000    0.877964    0.981910      -0.013849   \n",
       "population                0.877964    1.000000    0.905078      -0.002026   \n",
       "households                0.981910    0.905078    1.000000       0.005407   \n",
       "median_income            -0.013849   -0.002026    0.005407       1.000000   \n",
       "median_house_value        0.045316   -0.031397    0.059780       0.686663   \n",
       "\n",
       "                    median_house_value  \n",
       "longitude                    -0.047342  \n",
       "latitude                     -0.141608  \n",
       "housing_median_age            0.105510  \n",
       "total_rooms                   0.129003  \n",
       "total_bedrooms                0.045316  \n",
       "population                   -0.031397  \n",
       "households                    0.059780  \n",
       "median_income                 0.686663  \n",
       "median_house_value            1.000000  "
      ]
     },
     "execution_count": 49,
     "metadata": {},
     "output_type": "execute_result"
    }
   ],
   "source": [
    "corr_matrix"
   ]
  },
  {
   "cell_type": "code",
   "execution_count": 50,
   "metadata": {},
   "outputs": [
    {
     "data": {
      "text/plain": [
       "longitude            -0.047342\n",
       "latitude             -0.141608\n",
       "housing_median_age    0.105510\n",
       "total_rooms           0.129003\n",
       "total_bedrooms        0.045316\n",
       "population           -0.031397\n",
       "households            0.059780\n",
       "median_income         0.686663\n",
       "median_house_value    1.000000\n",
       "Name: median_house_value, dtype: float64"
      ]
     },
     "execution_count": 50,
     "metadata": {},
     "output_type": "execute_result"
    }
   ],
   "source": [
    "corr_matrix[\"median_house_value\"]"
   ]
  },
  {
   "cell_type": "code",
   "execution_count": 51,
   "metadata": {},
   "outputs": [
    {
     "data": {
      "image/png": "[encoded data removed]",
      "text/plain": [
       "<Figure size 432x288 with 1 Axes>"
      ]
     },
     "metadata": {
      "needs_background": "light"
     },
     "output_type": "display_data"
    }
   ],
   "source": [
    "med=housing.plot.scatter(x=\"median_income\",y=\"median_house_value\",alpha=0.1)"
   ]
  },
  {
   "cell_type": "code",
   "execution_count": 55,
   "metadata": {},
   "outputs": [],
   "source": [
    "class HousingFeatureCreator(base.BaseEstimator, base.TransformerMixin):\n",
    "    def fit(self,df,y=None):\n",
    "        return self\n",
    "    def transform(self,df,y=None):\n",
    "        rooms_per_household = (df.loc[:, \"total_rooms\"].div(df.loc[:,\"households\"]))\n",
    "        features = {\"rooms_per_household\": rooms_per_household}\n",
    "        return df.assign(**features)"
   ]
  },
  {
   "cell_type": "code",
   "execution_count": 59,
   "metadata": {},
   "outputs": [],
   "source": [
    "feature_creator= HousingFeatureCreator()\n",
    "transformed_feature_df= feature_creator.fit_transform(training_df)\n"
   ]
  },
  {
   "cell_type": "code",
   "execution_count": 62,
   "metadata": {},
   "outputs": [
    {
     "data": {
      "text/html": [
       "<div>\n",
       "<style scoped>\n",
       "    .dataframe tbody tr th:only-of-type {\n",
       "        vertical-align: middle;\n",
       "    }\n",
       "\n",
       "    .dataframe tbody tr th {\n",
       "        vertical-align: top;\n",
       "    }\n",
       "\n",
       "    .dataframe thead th {\n",
       "        text-align: right;\n",
       "    }\n",
       "</style>\n",
       "<table border=\"1\" class=\"dataframe\">\n",
       "  <thead>\n",
       "    <tr style=\"text-align: right;\">\n",
       "      <th></th>\n",
       "      <th>longitude</th>\n",
       "      <th>latitude</th>\n",
       "      <th>housing_median_age</th>\n",
       "      <th>total_rooms</th>\n",
       "      <th>total_bedrooms</th>\n",
       "      <th>population</th>\n",
       "      <th>households</th>\n",
       "      <th>median_income</th>\n",
       "      <th>median_house_value</th>\n",
       "      <th>rooms_per_household</th>\n",
       "    </tr>\n",
       "  </thead>\n",
       "  <tbody>\n",
       "    <tr>\n",
       "      <th>longitude</th>\n",
       "      <td>1.000000</td>\n",
       "      <td>-0.925307</td>\n",
       "      <td>-0.108482</td>\n",
       "      <td>0.041635</td>\n",
       "      <td>0.066342</td>\n",
       "      <td>0.097790</td>\n",
       "      <td>0.051908</td>\n",
       "      <td>-0.013316</td>\n",
       "      <td>-0.047342</td>\n",
       "      <td>-0.023965</td>\n",
       "    </tr>\n",
       "    <tr>\n",
       "      <th>latitude</th>\n",
       "      <td>-0.925307</td>\n",
       "      <td>1.000000</td>\n",
       "      <td>0.010790</td>\n",
       "      <td>-0.034190</td>\n",
       "      <td>-0.065071</td>\n",
       "      <td>-0.106151</td>\n",
       "      <td>-0.067870</td>\n",
       "      <td>-0.081118</td>\n",
       "      <td>-0.141608</td>\n",
       "      <td>0.100024</td>\n",
       "    </tr>\n",
       "    <tr>\n",
       "      <th>housing_median_age</th>\n",
       "      <td>-0.108482</td>\n",
       "      <td>0.010790</td>\n",
       "      <td>1.000000</td>\n",
       "      <td>-0.362012</td>\n",
       "      <td>-0.319578</td>\n",
       "      <td>-0.297193</td>\n",
       "      <td>-0.302818</td>\n",
       "      <td>-0.118487</td>\n",
       "      <td>0.105510</td>\n",
       "      <td>-0.146658</td>\n",
       "    </tr>\n",
       "    <tr>\n",
       "      <th>total_rooms</th>\n",
       "      <td>0.041635</td>\n",
       "      <td>-0.034190</td>\n",
       "      <td>-0.362012</td>\n",
       "      <td>1.000000</td>\n",
       "      <td>0.929101</td>\n",
       "      <td>0.856395</td>\n",
       "      <td>0.919089</td>\n",
       "      <td>0.191636</td>\n",
       "      <td>0.129003</td>\n",
       "      <td>0.120825</td>\n",
       "    </tr>\n",
       "    <tr>\n",
       "      <th>total_bedrooms</th>\n",
       "      <td>0.066342</td>\n",
       "      <td>-0.065071</td>\n",
       "      <td>-0.319578</td>\n",
       "      <td>0.929101</td>\n",
       "      <td>1.000000</td>\n",
       "      <td>0.877964</td>\n",
       "      <td>0.981910</td>\n",
       "      <td>-0.013849</td>\n",
       "      <td>0.045316</td>\n",
       "      <td>-0.007733</td>\n",
       "    </tr>\n",
       "    <tr>\n",
       "      <th>population</th>\n",
       "      <td>0.097790</td>\n",
       "      <td>-0.106151</td>\n",
       "      <td>-0.297193</td>\n",
       "      <td>0.856395</td>\n",
       "      <td>0.877964</td>\n",
       "      <td>1.000000</td>\n",
       "      <td>0.905078</td>\n",
       "      <td>-0.002026</td>\n",
       "      <td>-0.031397</td>\n",
       "      <td>-0.074040</td>\n",
       "    </tr>\n",
       "    <tr>\n",
       "      <th>households</th>\n",
       "      <td>0.051908</td>\n",
       "      <td>-0.067870</td>\n",
       "      <td>-0.302818</td>\n",
       "      <td>0.919089</td>\n",
       "      <td>0.981910</td>\n",
       "      <td>0.905078</td>\n",
       "      <td>1.000000</td>\n",
       "      <td>0.005407</td>\n",
       "      <td>0.059780</td>\n",
       "      <td>-0.082647</td>\n",
       "    </tr>\n",
       "    <tr>\n",
       "      <th>median_income</th>\n",
       "      <td>-0.013316</td>\n",
       "      <td>-0.081118</td>\n",
       "      <td>-0.118487</td>\n",
       "      <td>0.191636</td>\n",
       "      <td>-0.013849</td>\n",
       "      <td>-0.002026</td>\n",
       "      <td>0.005407</td>\n",
       "      <td>1.000000</td>\n",
       "      <td>0.686663</td>\n",
       "      <td>0.317831</td>\n",
       "    </tr>\n",
       "    <tr>\n",
       "      <th>median_house_value</th>\n",
       "      <td>-0.047342</td>\n",
       "      <td>-0.141608</td>\n",
       "      <td>0.105510</td>\n",
       "      <td>0.129003</td>\n",
       "      <td>0.045316</td>\n",
       "      <td>-0.031397</td>\n",
       "      <td>0.059780</td>\n",
       "      <td>0.686663</td>\n",
       "      <td>1.000000</td>\n",
       "      <td>0.149805</td>\n",
       "    </tr>\n",
       "    <tr>\n",
       "      <th>rooms_per_household</th>\n",
       "      <td>-0.023965</td>\n",
       "      <td>0.100024</td>\n",
       "      <td>-0.146658</td>\n",
       "      <td>0.120825</td>\n",
       "      <td>-0.007733</td>\n",
       "      <td>-0.074040</td>\n",
       "      <td>-0.082647</td>\n",
       "      <td>0.317831</td>\n",
       "      <td>0.149805</td>\n",
       "      <td>1.000000</td>\n",
       "    </tr>\n",
       "  </tbody>\n",
       "</table>\n",
       "</div>"
      ],
      "text/plain": [
       "                     longitude  latitude  housing_median_age  total_rooms  \\\n",
       "longitude             1.000000 -0.925307           -0.108482     0.041635   \n",
       "latitude             -0.925307  1.000000            0.010790    -0.034190   \n",
       "housing_median_age   -0.108482  0.010790            1.000000    -0.362012   \n",
       "total_rooms           0.041635 -0.034190           -0.362012     1.000000   \n",
       "total_bedrooms        0.066342 -0.065071           -0.319578     0.929101   \n",
       "population            0.097790 -0.106151           -0.297193     0.856395   \n",
       "households            0.051908 -0.067870           -0.302818     0.919089   \n",
       "median_income        -0.013316 -0.081118           -0.118487     0.191636   \n",
       "median_house_value   -0.047342 -0.141608            0.105510     0.129003   \n",
       "rooms_per_household  -0.023965  0.100024           -0.146658     0.120825   \n",
       "\n",
       "                     total_bedrooms  population  households  median_income  \\\n",
       "longitude                  0.066342    0.097790    0.051908      -0.013316   \n",
       "latitude                  -0.065071   -0.106151   -0.067870      -0.081118   \n",
       "housing_median_age        -0.319578   -0.297193   -0.302818      -0.118487   \n",
       "total_rooms                0.929101    0.856395    0.919089       0.191636   \n",
       "total_bedrooms             1.000000    0.877964    0.981910      -0.013849   \n",
       "population                 0.877964    1.000000    0.905078      -0.002026   \n",
       "households                 0.981910    0.905078    1.000000       0.005407   \n",
       "median_income             -0.013849   -0.002026    0.005407       1.000000   \n",
       "median_house_value         0.045316   -0.031397    0.059780       0.686663   \n",
       "rooms_per_household       -0.007733   -0.074040   -0.082647       0.317831   \n",
       "\n",
       "                     median_house_value  rooms_per_household  \n",
       "longitude                     -0.047342            -0.023965  \n",
       "latitude                      -0.141608             0.100024  \n",
       "housing_median_age             0.105510            -0.146658  \n",
       "total_rooms                    0.129003             0.120825  \n",
       "total_bedrooms                 0.045316            -0.007733  \n",
       "population                    -0.031397            -0.074040  \n",
       "households                     0.059780            -0.082647  \n",
       "median_income                  0.686663             0.317831  \n",
       "median_house_value             1.000000             0.149805  \n",
       "rooms_per_household            0.149805             1.000000  "
      ]
     },
     "execution_count": 62,
     "metadata": {},
     "output_type": "execute_result"
    }
   ],
   "source": [
    "transformed_feature_df.corr().loc[:,\"median_house_value\"]\n",
    " "
   ]
  },
  {
   "cell_type": "code",
   "execution_count": 63,
   "metadata": {},
   "outputs": [
    {
     "data": {
      "text/plain": [
       "longitude               0\n",
       "latitude                0\n",
       "housing_median_age      0\n",
       "total_rooms             0\n",
       "total_bedrooms        162\n",
       "population              0\n",
       "households              0\n",
       "median_income           0\n",
       "median_house_value      0\n",
       "ocean_proximity         0\n",
       "dtype: int64"
      ]
     },
     "execution_count": 63,
     "metadata": {},
     "output_type": "execute_result"
    }
   ],
   "source": [
    "(training_df.isna()\n",
    "            .sum())"
   ]
  },
  {
   "cell_type": "code",
   "execution_count": 64,
   "metadata": {},
   "outputs": [],
   "source": [
    "impute.SimpleImputer?"
   ]
  },
  {
   "cell_type": "code",
   "execution_count": 65,
   "metadata": {},
   "outputs": [],
   "source": [
    "numeric_features_transformer = pipeline.make_pipeline(\n",
    "    impute.SimpleImputer(strategy=\"median\"),\n",
    "    preprocessing.StandardScaler()\n",
    ")"
   ]
  },
  {
   "cell_type": "code",
   "execution_count": 66,
   "metadata": {},
   "outputs": [],
   "source": [
    "categorical_features_transformer = pipeline.make_pipeline(\n",
    "    impute.SimpleImputer(strategy=\"most_frequent\"),\n",
    "    preprocessing.OneHotEncoder()\n",
    ")"
   ]
  },
  {
   "cell_type": "code",
   "execution_count": 67,
   "metadata": {},
   "outputs": [],
   "source": [
    "_numerical_columns = [\"longitude\",\n",
    "                      \"latitude\",\n",
    "                      \"housing_median_age\",\n",
    "                      \"total_rooms\",\n",
    "                      \"total_bedrooms\",\n",
    "                      \"population\",\n",
    "                      \"households\",\n",
    "                      \"median_income\",\n",
    "                      \"rooms_per_household\"]\n",
    "\n",
    "_categorical_columns = [\"ocean_proximity\"]\n",
    "\n",
    "column_transformer = compose.make_column_transformer(\n",
    "    (numeric_features_transformer, _numerical_columns),\n",
    "    (categorical_features_transformer, _categorical_columns),\n",
    "    remainder=\"drop\",\n",
    ")"
   ]
  },
  {
   "cell_type": "code",
   "execution_count": 68,
   "metadata": {},
   "outputs": [],
   "source": [
    "preprocessing_pipeline = pipeline.make_pipeline(\n",
    "    feature_creator,\n",
    "    column_transformer\n",
    ")"
   ]
  },
  {
   "cell_type": "code",
   "execution_count": 69,
   "metadata": {},
   "outputs": [],
   "source": [
    "training_features_arr = preprocessing_pipeline.fit_transform(training_df)"
   ]
  },
  {
   "cell_type": "code",
   "execution_count": 70,
   "metadata": {},
   "outputs": [
    {
     "data": {
      "text/plain": [
       "(16512, 14)"
      ]
     },
     "execution_count": 70,
     "metadata": {},
     "output_type": "execute_result"
    }
   ],
   "source": [
    "# 11 numeric features + 5 one-hot encoded categorical feature = 16 cols!\n",
    "training_features_arr.shape"
   ]
  },
  {
   "cell_type": "code",
   "execution_count": 71,
   "metadata": {},
   "outputs": [],
   "source": [
    "training_target_arr = (training_df.loc[:, \"median_house_value\"]\n",
    "                                  .values)"
   ]
  },
  {
   "cell_type": "code",
   "execution_count": 72,
   "metadata": {},
   "outputs": [
    {
     "data": {
      "text/plain": [
       "(16512,)"
      ]
     },
     "execution_count": 72,
     "metadata": {},
     "output_type": "execute_result"
    }
   ],
   "source": [
    "training_target_arr.shape"
   ]
  },
  {
   "cell_type": "code",
   "execution_count": null,
   "metadata": {},
   "outputs": [],
   "source": [
    "linear_regressor = linear_model.LinearRegression(fit_intercept=False)\n"
   ]
  },
  {
   "cell_type": "code",
   "execution_count": null,
   "metadata": {},
   "outputs": [],
   "source": []
  },
  {
   "cell_type": "code",
   "execution_count": null,
   "metadata": {},
   "outputs": [],
   "source": []
  },
  {
   "cell_type": "code",
   "execution_count": null,
   "metadata": {},
   "outputs": [],
   "source": []
  },
  {
   "cell_type": "code",
   "execution_count": null,
   "metadata": {},
   "outputs": [],
   "source": []
  },
  {
   "cell_type": "code",
   "execution_count": null,
   "metadata": {},
   "outputs": [],
   "source": []
  },
  {
   "cell_type": "code",
   "execution_count": null,
   "metadata": {},
   "outputs": [],
   "source": []
  }
 ],
 "metadata": {
  "kernelspec": {
   "display_name": "Python 3",
   "language": "python",
   "name": "python3"
  },
  "language_info": {
   "codemirror_mode": {
    "name": "ipython",
    "version": 3
   },
   "file_extension": ".py",
   "mimetype": "text/x-python",
   "name": "python",
   "nbconvert_exporter": "python",
   "pygments_lexer": "ipython3",
   "version": "3.7.1"
  }
 },
 "nbformat": 4,
 "nbformat_minor": 2
}
