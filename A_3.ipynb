{
 "cells": [
  {
   "cell_type": "code",
   "execution_count": 24,
   "metadata": {},
   "outputs": [
    {
     "name": "stdout",
     "output_type": "stream",
     "text": [
      "theta_one = 3.1255926338293483\n",
      "theta_two = 0.1540181798438225\n"
     ]
    },
    {
     "data": {
      "image/png": "[encoded data removed]",
      "text/plain": [
       "<Figure size 432x288 with 1 Axes>"
      ]
     },
     "metadata": {
      "needs_background": "light"
     },
     "output_type": "display_data"
    }
   ],
   "source": [
    "import numpy as np\n",
    "from numpy.polynomial import polynomial as poly\n",
    "import pandas as pd\n",
    "import matplotlib.pyplot as plt\n",
    "import seaborn as sns\n",
    "from sklearn.linear_model import LinearRegression\n",
    "from sklearn.metrics import mean_squared_error as mse\n",
    "import math\n",
    "\n",
    "\n",
    "# Part a\n",
    "\n",
    "N = [2250, 2500, 5000, 29000, 120000, 275000,1180000,3100000, 7500000, 24000000, 42000000, 220000000, 410000000];\n",
    "N = [math.log10(i) for i in N]\n",
    "\n",
    "t = np.array([1,2,4,8,12,15,19,23,27,29,30,32,33]).reshape(-1,1)\n",
    "t_2 = [1,2,4,8,12,15,19,23,27,29,30,32,33]\n",
    "reg = LinearRegression()\n",
    "model = reg.fit(t,N)\n",
    "slope = reg.coef_\n",
    "intercept = model.intercept_\n",
    "\n",
    "\n",
    "x_reg = np.linspace(1,t_2[-1],t_2[-1])\n",
    "y_reg = intercept + slope*x_reg\n",
    "\n",
    "\n",
    "print(f'''theta_one = {intercept}\n",
    "theta_two = {slope[0]}''')\n",
    "\n",
    "plt.scatter(t,N)\n",
    "plt.plot(x_reg,y_reg)\n",
    "plt.xlabel('Years after 1970')\n",
    "plt.ylabel(\"Logarithmic number of transistors (base 10)\")\n",
    "plt.title(\"Log number of transistors vs. years (1970 is year 0)\")\n",
    "\n",
    "plt.show()"
   ]
  },
  {
   "cell_type": "code",
   "execution_count": 26,
   "metadata": {},
   "outputs": [
    {
     "name": "stdout",
     "output_type": "stream",
     "text": [
      "The mean square error (MSE) is 0.041240140870557114.\n"
     ]
    },
    {
     "data": {
      "text/plain": [
       "1.4256672716937808"
      ]
     },
     "execution_count": 26,
     "metadata": {},
     "output_type": "execute_result"
    }
   ],
   "source": [
    "test_predictions = model.predict(t)\n",
    "\n",
    "\n",
    "mse_result = mse(N, test_predictions)\n",
    "print(f'The mean square error (MSE) is {mse_result}.')\n"
   ]
  },
  {
   "cell_type": "code",
   "execution_count": 22,
   "metadata": {},
   "outputs": [
    {
     "name": "stdout",
     "output_type": "stream",
     "text": [
      "The predicted number of transistors on a chip in 2015 is 1.138704e+10.\n"
     ]
    }
   ],
   "source": [
    "# Part b\n",
    "\n",
    "test_year = [[2015 - 1973]]\n",
    "\n",
    "predict = model.predict(test_year)\n",
    "predict = 10**(predict[0])\n",
    "\n",
    "print(f'The predicted number of transistors on a chip in 2015 is {predict:3e}.')"
   ]
  },
  {
   "cell_type": "code",
   "execution_count": 29,
   "metadata": {},
   "outputs": [
    {
     "name": "stdout",
     "output_type": "stream",
     "text": [
      "According to the model, transistor density is increasing at a rate of 1.43 per year\n"
     ]
    }
   ],
   "source": [
    "# Part c\n",
    "\n",
    "theta_2 = 10**slope[0]\n",
    "print(f'According to the model, transistor density is increasing at a rate of {theta_2:.2f} per year')"
   ]
  },
  {
   "cell_type": "code",
   "execution_count": null,
   "metadata": {},
   "outputs": [],
   "source": []
  }
 ],
 "metadata": {
  "kernelspec": {
   "display_name": "Python 3",
   "language": "python",
   "name": "python3"
  },
  "language_info": {
   "codemirror_mode": {
    "name": "ipython",
    "version": 3
   },
   "file_extension": ".py",
   "mimetype": "text/x-python",
   "name": "python",
   "nbconvert_exporter": "python",
   "pygments_lexer": "ipython3",
   "version": "3.7.6"
  }
 },
 "nbformat": 4,
 "nbformat_minor": 4
}
