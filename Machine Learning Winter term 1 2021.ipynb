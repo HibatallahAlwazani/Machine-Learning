{
 "cells": [
  {
   "cell_type": "code",
   "execution_count": 26,
   "metadata": {},
   "outputs": [],
   "source": [
    "# import auto diff\n",
    "from autograd import grad\n",
    "import numpy as np\n",
    "import matplotlib.pyplot as plt"
   ]
  },
  {
   "cell_type": "code",
   "execution_count": 27,
   "metadata": {},
   "outputs": [],
   "source": [
    "# define function g(w)\n",
    "def g(w):\n",
    "    return w**2\n",
    "# gradient descent function\n",
    "def gradient_descent(g, alpha, max_its, w, p):\n",
    "    # compute gradient\n",
    "    gradient = grad(g)\n",
    "    # gradient descent loop\n",
    "    weight_history= [w] \n",
    "    # weight history container\n",
    "    cost_history= [g(w)]\n",
    "    # cost history container\n",
    "    for k in range(max_its):\n",
    "        # evaluate gradient\n",
    "        grad_eval= gradient(w)\n",
    "        # take grad descent step\n",
    "        w = w -alpha*grad_eval\n",
    "        if p:\n",
    "            plt.plot(w, g(w),\"kx\")\n",
    "            # record weight and cost\n",
    "        weight_history.append(w)\n",
    "        cost_history.append(g(w))\n",
    "    return weight_history, cost_history"
   ]
  },
  {
   "cell_type": "code",
   "execution_count": 28,
   "metadata": {},
   "outputs": [
    {
     "name": "stdout",
     "output_type": "stream",
     "text": [
      "[[0.20222259]]\n"
     ]
    },
    {
     "data": {
      "image/png": "[encoded data removed]",
      "text/plain": [
       "<Figure size 432x288 with 1 Axes>"
      ]
     },
     "metadata": {
      "needs_background": "light"
     },
     "output_type": "display_data"
    }
   ],
   "source": [
    "# generate random initialization \n",
    "scale = 5\n",
    "N = 1\n",
    "# dimension\n",
    "w = scale*np.random.rand(N,1)\n",
    "print(w)\n",
    "# plot function and initial (w,g(w))\n",
    "x = np.linspace(-5,5,100)\n",
    "plt.plot(x, g(x))\n",
    "plt.plot(w, g(w),'kx')\n",
    "\n",
    "# call gradient descent\n",
    "u = gradient_descent(g,.1,20,w,1)\n"
   ]
  },
  {
   "cell_type": "code",
   "execution_count": 34,
   "metadata": {},
   "outputs": [],
   "source": [
    "# import auto diff\n",
    "from autograd import grad, hessian\n",
    "import numpy as np\n",
    "import matplotlib.pyplot as plt\n",
    "import scipy.linalg as linalg "
   ]
  },
  {
   "cell_type": "code",
   "execution_count": 37,
   "metadata": {},
   "outputs": [],
   "source": [
    "# define function g(w)\n",
    "def g(w):\n",
    "    return w**2\n",
    "# gradient descent function\n",
    "def newtons_method(g, alpha, max_its, w, p):\n",
    "    # compute gradient\n",
    "    gradient = grad(g)\n",
    "    hess=hessian(g)\n",
    "    # gradient descent loop\n",
    "    weight_history= [w] \n",
    "    # weight history container\n",
    "    cost_history= [g(w)]\n",
    "    # cost history container\n",
    "    for k in range(max_its):\n",
    "        # evaluate gradient\n",
    "        grad_eval= gradient(w)\n",
    "        A=hess(w)\n",
    "        # take grad descent step\n",
    "        w = linalg.solve(A,dot(A,w) -grad_eval)\n",
    "        if p:\n",
    "            plt.plot(w, g(w),\"kx\")\n",
    "            # record weight and cost\n",
    "        weight_history.append(w)\n",
    "        cost_history.append(g(w))\n",
    "    return weight_history, cost_history"
   ]
  },
  {
   "cell_type": "code",
   "execution_count": 36,
   "metadata": {},
   "outputs": [
    {
     "name": "stdout",
     "output_type": "stream",
     "text": [
      "[[4.99186072]]\n"
     ]
    },
    {
     "ename": "NameError",
     "evalue": "name 'dot' is not defined",
     "output_type": "error",
     "traceback": [
      "\u001b[0;31m---------------------------------------------------------------------------\u001b[0m",
      "\u001b[0;31mNameError\u001b[0m                                 Traceback (most recent call last)",
      "\u001b[0;32m<ipython-input-36-6624ccffe6de>\u001b[0m in \u001b[0;36m<module>\u001b[0;34m\u001b[0m\n\u001b[1;32m     11\u001b[0m \u001b[0;34m\u001b[0m\u001b[0m\n\u001b[1;32m     12\u001b[0m \u001b[0;31m# call gradient descent\u001b[0m\u001b[0;34m\u001b[0m\u001b[0;34m\u001b[0m\u001b[0;34m\u001b[0m\u001b[0m\n\u001b[0;32m---> 13\u001b[0;31m \u001b[0mu\u001b[0m \u001b[0;34m=\u001b[0m \u001b[0mnewtons_method\u001b[0m\u001b[0;34m(\u001b[0m\u001b[0mg\u001b[0m\u001b[0;34m,\u001b[0m\u001b[0;36m.1\u001b[0m\u001b[0;34m,\u001b[0m\u001b[0;36m20\u001b[0m\u001b[0;34m,\u001b[0m\u001b[0mw\u001b[0m\u001b[0;34m,\u001b[0m\u001b[0;36m1\u001b[0m\u001b[0;34m)\u001b[0m\u001b[0;34m\u001b[0m\u001b[0;34m\u001b[0m\u001b[0m\n\u001b[0m\u001b[1;32m     14\u001b[0m \u001b[0;34m\u001b[0m\u001b[0m\n",
      "\u001b[0;32m<ipython-input-35-669a2db52cb6>\u001b[0m in \u001b[0;36mnewtons_method\u001b[0;34m(g, alpha, max_its, w, p)\u001b[0m\n\u001b[1;32m     17\u001b[0m         \u001b[0mA\u001b[0m\u001b[0;34m=\u001b[0m\u001b[0mhess\u001b[0m\u001b[0;34m(\u001b[0m\u001b[0mw\u001b[0m\u001b[0;34m)\u001b[0m\u001b[0;34m\u001b[0m\u001b[0;34m\u001b[0m\u001b[0m\n\u001b[1;32m     18\u001b[0m         \u001b[0;31m# take grad descent step\u001b[0m\u001b[0;34m\u001b[0m\u001b[0;34m\u001b[0m\u001b[0;34m\u001b[0m\u001b[0m\n\u001b[0;32m---> 19\u001b[0;31m         \u001b[0mw\u001b[0m \u001b[0;34m=\u001b[0m \u001b[0mlinalg\u001b[0m\u001b[0;34m.\u001b[0m\u001b[0msolve\u001b[0m\u001b[0;34m(\u001b[0m\u001b[0mA\u001b[0m\u001b[0;34m,\u001b[0m\u001b[0mdot\u001b[0m\u001b[0;34m(\u001b[0m\u001b[0mA\u001b[0m\u001b[0;34m,\u001b[0m\u001b[0mw\u001b[0m\u001b[0;34m)\u001b[0m \u001b[0;34m-\u001b[0m\u001b[0mgrad_eval\u001b[0m\u001b[0;34m)\u001b[0m\u001b[0;34m\u001b[0m\u001b[0;34m\u001b[0m\u001b[0m\n\u001b[0m\u001b[1;32m     20\u001b[0m         \u001b[0;32mif\u001b[0m \u001b[0mp\u001b[0m\u001b[0;34m:\u001b[0m\u001b[0;34m\u001b[0m\u001b[0;34m\u001b[0m\u001b[0m\n\u001b[1;32m     21\u001b[0m             \u001b[0mplt\u001b[0m\u001b[0;34m.\u001b[0m\u001b[0mplot\u001b[0m\u001b[0;34m(\u001b[0m\u001b[0mw\u001b[0m\u001b[0;34m,\u001b[0m \u001b[0mg\u001b[0m\u001b[0;34m(\u001b[0m\u001b[0mw\u001b[0m\u001b[0;34m)\u001b[0m\u001b[0;34m,\u001b[0m\u001b[0;34m\"kx\"\u001b[0m\u001b[0;34m)\u001b[0m\u001b[0;34m\u001b[0m\u001b[0;34m\u001b[0m\u001b[0m\n",
      "\u001b[0;31mNameError\u001b[0m: name 'dot' is not defined"
     ]
    },
    {
     "data": {
      "image/png": "[encoded data removed]",
      "text/plain": [
       "<Figure size 432x288 with 1 Axes>"
      ]
     },
     "metadata": {
      "needs_background": "light"
     },
     "output_type": "display_data"
    }
   ],
   "source": [
    "# generate random initialization \n",
    "scale = 5\n",
    "N = 1\n",
    "# dimension\n",
    "w = scale*np.random.rand(N,1)\n",
    "print(w)\n",
    "# plot function and initial (w,g(w))\n",
    "x = np.linspace(-5,5,100)\n",
    "plt.plot(x, g(x))\n",
    "plt.plot(w, g(w),'kx')\n",
    "\n",
    "# call gradient descent\n",
    "u = newtons_method(g,.1,20,w,1)\n",
    "\n"
   ]
  },
  {
   "cell_type": "code",
   "execution_count": 22,
   "metadata": {},
   "outputs": [
    {
     "name": "stdout",
     "output_type": "stream",
     "text": [
      "[0.98675174] [[0.99125982]]\n",
      "0.8508444744003507\n",
      "[[0.99125982]]\n",
      "[[0.7]]\n",
      "0.5080426653296073\n"
     ]
    },
    {
     "data": {
      "image/png": "[encoded data removed]",
      "text/plain": [
       "<Figure size 432x288 with 1 Axes>"
      ]
     },
     "metadata": {
      "needs_background": "light"
     },
     "output_type": "display_data"
    }
   ],
   "source": [
    "# Create a simple 2-D linear regression\n",
    "import matplotlib.pyplot as plt\n",
    "import numpy as np\n",
    "from sklearn.linear_model import LinearRegression\n",
    "\n",
    "# generate random training data\n",
    "P=10\n",
    "x=np.linspace(1,10,P)\n",
    "x=np.reshape(x,[P, 1])\n",
    "noise=np.random.randn(P,1)\n",
    "y=1+x+noise\n",
    "plt.scatter(x,y)\n",
    "plt.grid(1)\n",
    "\n",
    "\n",
    "# Create a linear regression model\n",
    "model=LinearRegression()\n",
    "model.fit(x,y)\n",
    "plt.plot(x,model.predict(x),'k')\n",
    "plt.xlabel('x')\n",
    "plt.ylabel('y')\n",
    "print(model.intercept_,model.coef_)\n",
    "print(model.score(x,y))\n",
    "\n",
    "# change model to check R^2 score changing, close to 1 is good\n",
    "print(model.coef_)\n",
    "model.coef_=np.array([[.7]])\n",
    "print(model.coef_)\n",
    "plt.plot(x,model.predict(x),'k')\n",
    "print(model.score(x,y))"
   ]
  },
  {
   "cell_type": "code",
   "execution_count": 5,
   "metadata": {},
   "outputs": [],
   "source": [
    "from sklearn import datasets\n",
    "# Create a simple 2-D linear regression\n",
    "import matplotlib.pyplot as plt\n",
    "import numpy as np\n",
    "from sklearn.linear_model import LinearRegression\n",
    "iris=datasets.load_iris()"
   ]
  },
  {
   "cell_type": "code",
   "execution_count": 6,
   "metadata": {},
   "outputs": [
    {
     "name": "stdout",
     "output_type": "stream",
     "text": [
      "[-0.36307552] [[0.41575542]]\n"
     ]
    },
    {
     "data": {
      "image/png": "[encoded data removed]",
      "text/plain": [
       "<Figure size 432x288 with 1 Axes>"
      ]
     },
     "metadata": {
      "needs_background": "light"
     },
     "output_type": "display_data"
    }
   ],
   "source": [
    "\n",
    "iris.data\n",
    "iris.target\n",
    "iris.target_names\n",
    "x=iris.data[:,2].reshape(-1,1)\n",
    "y=iris.data[:,3].reshape(-1,1)\n",
    "plt.scatter(x,y)\n",
    "plt.grid(1)\n",
    "\n",
    "# Create a linear regression model\n",
    "model=LinearRegression()\n",
    "model.fit(x,y)\n",
    "plt.plot(x,model.predict(x),'m')\n",
    "plt.xlabel('x')\n",
    "plt.ylabel('y')\n",
    "print(model.intercept_,model.coef_)"
   ]
  },
  {
   "cell_type": "code",
   "execution_count": 7,
   "metadata": {},
   "outputs": [
    {
     "ename": "SyntaxError",
     "evalue": "invalid syntax (<ipython-input-7-11a927f9ae7c>, line 2)",
     "output_type": "error",
     "traceback": [
      "\u001b[0;36m  File \u001b[0;32m\"<ipython-input-7-11a927f9ae7c>\"\u001b[0;36m, line \u001b[0;32m2\u001b[0m\n\u001b[0;31m    from mp;_toolkits import mplot3d\u001b[0m\n\u001b[0m           ^\u001b[0m\n\u001b[0;31mSyntaxError\u001b[0m\u001b[0;31m:\u001b[0m invalid syntax\n"
     ]
    }
   ],
   "source": [
    "# 3 dimensional Linear regression\n",
    "from mp;_toolkits import mplot3d\n",
    "from matplotlib.pyplot import figure\n",
    "figure(figsize(12,10))\n",
    "ax=plt.axes(projection='3d')\n",
    "p=30\n",
    "x=np.random.rand(P,2)*10\n",
    "noise=np.random.randn(P,1)\n",
    "y=x[:,0].reshape(P,1)+x[:,1].reshape(P,1)+noise\n",
    "ax.scatter3D(x[:,0])"
   ]
  },
  {
   "cell_type": "code",
   "execution_count": 8,
   "metadata": {},
   "outputs": [
    {
     "ename": "NameError",
     "evalue": "name 'df' is not defined",
     "output_type": "error",
     "traceback": [
      "\u001b[0;31m---------------------------------------------------------------------------\u001b[0m",
      "\u001b[0;31mNameError\u001b[0m                                 Traceback (most recent call last)",
      "\u001b[0;32m<ipython-input-8-44e2b047ab8c>\u001b[0m in \u001b[0;36m<module>\u001b[0;34m\u001b[0m\n\u001b[1;32m      1\u001b[0m \u001b[0;31m# fill the Not a number NAN in a CSV file\u001b[0m\u001b[0;34m\u001b[0m\u001b[0;34m\u001b[0m\u001b[0;34m\u001b[0m\u001b[0m\n\u001b[0;32m----> 2\u001b[0;31m \u001b[0mdf\u001b[0m\u001b[0;34m.\u001b[0m\u001b[0ma\u001b[0m\u001b[0;34m.\u001b[0m\u001b[0mfillna\u001b[0m\u001b[0;34m(\u001b[0m\u001b[0mdf\u001b[0m\u001b[0;34m.\u001b[0m\u001b[0ma\u001b[0m\u001b[0;34m.\u001b[0m\u001b[0mmean\u001b[0m\u001b[0;34m(\u001b[0m\u001b[0;34m)\u001b[0m\u001b[0;34m)\u001b[0m \u001b[0;31m# fills blanks with column mean\u001b[0m\u001b[0;34m\u001b[0m\u001b[0;34m\u001b[0m\u001b[0m\n\u001b[0m",
      "\u001b[0;31mNameError\u001b[0m: name 'df' is not defined"
     ]
    }
   ],
   "source": [
    "# fill the Not a number NAN in a CSV file\n",
    "df.a.fillna(df.a.mean()) # fills blanks with column mean"
   ]
  },
  {
   "cell_type": "code",
   "execution_count": 76,
   "metadata": {},
   "outputs": [
    {
     "name": "stdout",
     "output_type": "stream",
     "text": [
      "[0.84114744 0.66080063 0.56868016 0.22336966 0.75512923 0.1845414\n",
      " 0.18231129 0.22788545 0.13527991 0.26302552 0.11208596 0.90355666\n",
      " 0.03837562 0.60070234 0.67972732 0.28132139 0.30779857 0.92293584\n",
      " 0.1674999  0.8586534  2.22734369 2.7511606  2.86311391 2.65393201\n",
      " 2.88774718 2.53161501 2.97410373 2.16311061 2.92830219 2.07270939\n",
      " 2.40485588 2.51149478 2.33668743 2.88398193 2.7542887  2.36419593\n",
      " 2.86548901 2.10002949 2.31999997 2.09020468] \n",
      " [0. 0. 0. 0. 0. 0. 0. 0. 0. 0. 0. 0. 0. 0. 0. 0. 0. 0. 0. 0. 1. 1. 1. 1.\n",
      " 1. 1. 1. 1. 1. 1. 1. 1. 1. 1. 1. 1. 1. 1. 1. 1.]\n"
     ]
    },
    {
     "data": {
      "text/plain": [
       "Text(0, 0.5, 'Candidate')"
      ]
     },
     "execution_count": 76,
     "metadata": {},
     "output_type": "execute_result"
    },
    {
     "data": {
      "image/png": "[encoded data removed]",
      "text/plain": [
       "<Figure size 432x288 with 1 Axes>"
      ]
     },
     "metadata": {
      "needs_background": "light"
     },
     "output_type": "display_data"
    }
   ],
   "source": [
    "# Logisitic regression using scikit learn\n",
    "import numpy as np\n",
    "import matplotlib.pyplot as plt\n",
    "from sklearn import linear_model\n",
    "\n",
    "# x for income\n",
    "# y for candidate\n",
    "P_perclass=20\n",
    "x0=np.random.rand(P_perclass)\n",
    "y0=np.zeros(P_perclass)\n",
    "\n",
    "\n",
    "x1=2+np.random.rand(P_perclass) #\n",
    "y1=np.ones(P_perclass)\n",
    "\n",
    "#append class\n",
    "x=np.append(x0,x1)\n",
    "y=np.append(y0,y1)\n",
    "\n",
    "#print \n",
    "print(x,'\\n',y)\n",
    "\n",
    "#plot dataset\n",
    "plt.scatter(x,y)\n",
    "plt.xlabel('Income')\n",
    "plt.ylabel('Candidate')\n",
    "\n",
    "\n"
   ]
  },
  {
   "cell_type": "code",
   "execution_count": 77,
   "metadata": {},
   "outputs": [
    {
     "data": {
      "text/plain": [
       "[<matplotlib.lines.Line2D at 0x11e6d1438>]"
      ]
     },
     "execution_count": 77,
     "metadata": {},
     "output_type": "execute_result"
    },
    {
     "data": {
      "image/png": "[encoded data removed]",
      "text/plain": [
       "<Figure size 432x288 with 1 Axes>"
      ]
     },
     "metadata": {
      "needs_background": "light"
     },
     "output_type": "display_data"
    }
   ],
   "source": [
    "plt.scatter(x,y)\n",
    "plt.xlabel('Income')\n",
    "plt.ylabel('Candidate')\n",
    "\n",
    "#train model\n",
    "from sklearn import linear_model\n",
    "log_regressor=linear_model.LogisticRegression(penalty='') #c=1/lambda\n",
    "log_regressor.fit(x.reshape(-1,1),y)\n",
    "\n",
    "# overfitting to data not desirable\n",
    "plt.plot(x.reshape(-1,1),log_regressor.predict(x.reshape(-1,1)),'m')\n"
   ]
  },
  {
   "cell_type": "code",
   "execution_count": 74,
   "metadata": {},
   "outputs": [
    {
     "name": "stdout",
     "output_type": "stream",
     "text": [
      "[-1.92634831] [4.59859174]\n"
     ]
    },
    {
     "data": {
      "text/plain": [
       "[<matplotlib.lines.Line2D at 0x11dfb8128>]"
      ]
     },
     "execution_count": 74,
     "metadata": {},
     "output_type": "execute_result"
    },
    {
     "data": {
      "image/png": "[encoded data removed]",
      "text/plain": [
       "<Figure size 432x288 with 1 Axes>"
      ]
     },
     "metadata": {
      "needs_background": "light"
     },
     "output_type": "display_data"
    }
   ],
   "source": [
    "# Logisitic Regression with Softmax\n",
    "import numpy as np\n",
    "import matplotlib.pyplot as plt\n",
    "from sklearn import linear_model\n",
    "from sklearn import datasets\n",
    "iris=datasets.load_iris()\n",
    "y=iris.target\n",
    "x1=iris.data[y<2,2]\n",
    "x2=iris.data[y<2,3]\n",
    "y=y[y<2]\n",
    "\n",
    "x=np.append(x1.reshape(-1,1),x2.reshape(-1,1))\n",
    "            \n",
    "#scatter plot\n",
    "plt.scatter(x1[y==0],x2[y==0],c='r')\n",
    "\n",
    "plt.scatter(x1[y==1],x2[y==1],c='b')\n",
    "plt.grid(1)\n",
    "plt.xlabel(iris.feature_names[2])\n",
    "plt.ylabel(iris.feature_names[3])\n",
    "\n",
    "#trained model\n",
    "log_reg=linear_model.LogisticRegression()\n",
    "log_reg.fit(x.reshape(-1,2),y)\n",
    "\n",
    "print(log_reg.coef_.reshape(-1,1)[1], log_reg.intercept_)\n",
    "x1=np.linspace(1,5,20)\n",
    "x2=(-log_reg.intercept_-log_reg.coef_.reshape(-1,1)[0]*x1)/log_reg.coef_.reshape(-1,1)[1]\n",
    "plt.plot(x1,x2)\n"
   ]
  },
  {
   "cell_type": "code",
   "execution_count": 5,
   "metadata": {},
   "outputs": [],
   "source": [
    "import pandas as pd\n",
    "import numpy as np\n",
    "import matplotlib.pyplot as plt\n",
    "from sklearn import svm\n",
    "data=pd.read_csv(\"CS.csv\")"
   ]
  },
  {
   "cell_type": "code",
   "execution_count": 53,
   "metadata": {},
   "outputs": [
    {
     "data": {
      "text/plain": [
       "<matplotlib.legend.Legend at 0x122c58c50>"
      ]
     },
     "execution_count": 53,
     "metadata": {},
     "output_type": "execute_result"
    },
    {
     "data": {
      "image/png": "[encoded data removed]",
      "text/plain": [
       "<Figure size 432x288 with 1 Axes>"
      ]
     },
     "metadata": {
      "needs_background": "light"
     },
     "output_type": "display_data"
    }
   ],
   "source": [
    "x=data[['x1','x2']].values\n",
    "y=data['label'].values\n",
    "# adding a new point\n",
    "x=np.append(x,[[2,1]],axis=0)\n",
    "y=np.append(y,'B')\n",
    "\n",
    "#adding a set of points\n",
    "P_perclass=10\n",
    "x1=4+np.random.rand(P_perclass)\n",
    "y=np.append(y,'B')\n",
    "\n",
    "plt.scatter(x[y=='A',0],x[y=='A',1], color='r')\n",
    "plt.scatter(x[y=='B',0],x[y=='B',1], color='b')\n",
    "plt.legend(['A','B'])\n"
   ]
  },
  {
   "cell_type": "code",
   "execution_count": 70,
   "metadata": {},
   "outputs": [
    {
     "name": "stdout",
     "output_type": "stream",
     "text": [
      "svm coefficients: [-1.] [[0.096 0.428]]\n",
      "svm support vectors: [[0 0]\n",
      " [1 1]\n",
      " [2 0]\n",
      " [1 3]\n",
      " [3 4]\n",
      " [2 1]]\n"
     ]
    }
   ],
   "source": [
    "\n",
    "# create support vector classification object\n",
    "svm_model=svm.SVC(kernel='linear', C=0.1) # c is large you care about the no errors, c is small you care about margin\n",
    "svm_model.fit(x,y)\n",
    "\n",
    "print('svm coefficients:', svm_model.intercept_,svm_model.coef_)\n",
    "print('svm support vectors:',x[svm_model.support_,:])"
   ]
  },
  {
   "cell_type": "code",
   "execution_count": 71,
   "metadata": {},
   "outputs": [
    {
     "data": {
      "image/png": "[encoded data removed]",
      "text/plain": [
       "<Figure size 432x288 with 1 Axes>"
      ]
     },
     "metadata": {
      "needs_background": "light"
     },
     "output_type": "display_data"
    }
   ],
   "source": [
    "x1p=np.linspace(0,4,10)\n",
    "x2p=(svm_model.coef_[0][0]*x1p+svm_model.intercept_)/(-svm_model.coef_[0][1])\n",
    "\n",
    "plt.scatter(x[y=='A',0],x[y=='A',1], color='r')\n",
    "plt.scatter(x[y=='B',0],x[y=='B',1], color='b')\n",
    "plt.legend(['A','B'])\n",
    "plt.plot(x1p,x2p)\n",
    "plt.gca().set_aspect('equal')"
   ]
  },
  {
   "cell_type": "code",
   "execution_count": 72,
   "metadata": {},
   "outputs": [
    {
     "name": "stdout",
     "output_type": "stream",
     "text": [
      "class of [3,3] B\n",
      "class of [2,1] A\n"
     ]
    }
   ],
   "source": [
    "# make predictions\n",
    "print('class of [3,3]',svm_model.predict([[3,3]])[0])\n",
    "print('class of [2,1]',svm_model.predict([[2,1]])[0])"
   ]
  },
  {
   "cell_type": "code",
   "execution_count": 73,
   "metadata": {},
   "outputs": [
    {
     "name": "stdout",
     "output_type": "stream",
     "text": [
      "[[0 0]\n",
      " [1 1]\n",
      " [1 3]\n",
      " [2 0]\n",
      " [3 4]\n",
      " [2 1]] ['A' 'A' 'B' 'A' 'B' 'A']\n",
      "col_0  A  B\n",
      "row_0      \n",
      "A      3  1\n",
      "B      0  2\n"
     ]
    }
   ],
   "source": [
    "preds=svm_model.predict(x)\n",
    "print(x,preds)\n",
    "# confusion matrix with inputs predicted outputs and true outputs\n",
    "\n",
    "print(pd.crosstab(preds,y))# preds is predicted, yt is true"
   ]
  },
  {
   "cell_type": "code",
   "execution_count": 1,
   "metadata": {},
   "outputs": [],
   "source": [
    "import pandas as pd\n",
    "import numpy as np\n",
    "import matplotlib.pyplot as plt\n",
    "from sklearn import linear_model\n",
    "from sklearn import datasets"
   ]
  },
  {
   "cell_type": "code",
   "execution_count": 4,
   "metadata": {},
   "outputs": [],
   "source": [
    "iris=datasets.load_iris()\n",
    "x1=iris.data[:,0]\n",
    "x2=iris.data[:,1]\n",
    "y=iris.target\n",
    "x=np.array([x1,x2])\n",
    "x=x.T\n"
   ]
  },
  {
   "cell_type": "code",
   "execution_count": 12,
   "metadata": {},
   "outputs": [
    {
     "data": {
      "text/plain": [
       "(2, 4)"
      ]
     },
     "execution_count": 12,
     "metadata": {},
     "output_type": "execute_result"
    },
    {
     "data": {
      "image/png": "[encoded data removed]",
      "text/plain": [
       "<Figure size 432x288 with 1 Axes>"
      ]
     },
     "metadata": {
      "needs_background": "light"
     },
     "output_type": "display_data"
    }
   ],
   "source": [
    "# scatter plot\n",
    "plt.scatter(x1[y==0],x2[y==0],c='r')\n",
    "plt.scatter(x1[y==1],x2[y==1],c='b')\n",
    "plt.scatter(x1[y==2],x2[y==2],c='orange')\n",
    "plt.grid(1)\n",
    "plt.legend(iris.target_names)\n",
    "plt.xlabel(iris.feature_names[0])\n",
    "plt.ylabel(iris.feature_names[1])\n",
    "plt.ylim(2,4)\n"
   ]
  },
  {
   "cell_type": "code",
   "execution_count": 15,
   "metadata": {},
   "outputs": [
    {
     "data": {
      "text/plain": [
       "LinearRegression()"
      ]
     },
     "execution_count": 15,
     "metadata": {},
     "output_type": "execute_result"
    }
   ],
   "source": [
    "y1=y.copy()\n",
    "# train model 1\n",
    "y1[y==0]=1\n",
    "y1[y!=0]=-1\n",
    "log_regress1=linear_model.LinearRegression()\n",
    "log_regress1.fit(x,y1)\n",
    "# train model 2\n",
    "y2=y.copy()\n",
    "y2[y==1]=1\n",
    "y2[y!=1]=-1\n",
    "log_regress2=linear_model.LinearRegression()\n",
    "log_regress2.fit(x,y2)\n",
    "# train model 3\n",
    "y3=y.copy()\n",
    "y3[y==2]=1\n",
    "y3[y!=2]=-1\n",
    "log_regress3=linear_model.LinearRegression()\n",
    "log_regress3.fit(x,y3)"
   ]
  },
  {
   "cell_type": "code",
   "execution_count": 19,
   "metadata": {},
   "outputs": [],
   "source": [
    "# plot boundaries\n",
    "xp1,xp2=np.meshgrid(np.linspace(3,8,100),np.linspace(2,4,100))\n",
    "# vectorize mesh grid\n",
    "xp1_v=xp1.reshape(-1,1)\n",
    "xp2_v=xp2.reshape(-1,1)\n",
    "Xpdata=np.append(xp1_v,xp2_v,axis=1) # stacking the vectors as a matrix\n"
   ]
  },
  {
   "cell_type": "code",
   "execution_count": 2,
   "metadata": {},
   "outputs": [
    {
     "ename": "NameError",
     "evalue": "name 'log_regress1' is not defined",
     "output_type": "error",
     "traceback": [
      "\u001b[0;31m---------------------------------------------------------------------------\u001b[0m",
      "\u001b[0;31mNameError\u001b[0m                                 Traceback (most recent call last)",
      "\u001b[0;32m<ipython-input-2-72c745ffa5fd>\u001b[0m in \u001b[0;36m<module>\u001b[0;34m\u001b[0m\n\u001b[1;32m      1\u001b[0m \u001b[0;31m# calculate model outputs\u001b[0m\u001b[0;34m\u001b[0m\u001b[0;34m\u001b[0m\u001b[0;34m\u001b[0m\u001b[0m\n\u001b[0;32m----> 2\u001b[0;31m \u001b[0mc1\u001b[0m\u001b[0;34m=\u001b[0m\u001b[0;34m(\u001b[0m\u001b[0mlog_regress1\u001b[0m\u001b[0;34m.\u001b[0m\u001b[0mintercept_\u001b[0m\u001b[0;34m+\u001b[0m\u001b[0mnp\u001b[0m\u001b[0;34m.\u001b[0m\u001b[0mdot\u001b[0m\u001b[0;34m(\u001b[0m\u001b[0mXpdata\u001b[0m\u001b[0;34m,\u001b[0m\u001b[0mlog_regress1\u001b[0m\u001b[0;34m.\u001b[0m\u001b[0mcoef_\u001b[0m\u001b[0;34m.\u001b[0m\u001b[0mT\u001b[0m\u001b[0;34m)\u001b[0m\u001b[0;34m)\u001b[0m\u001b[0;34m/\u001b[0m\u001b[0mnp\u001b[0m\u001b[0;34m.\u001b[0m\u001b[0mlinalg\u001b[0m\u001b[0;34m.\u001b[0m\u001b[0mnorm\u001b[0m\u001b[0;34m(\u001b[0m\u001b[0mlog_regress1\u001b[0m\u001b[0;34m.\u001b[0m\u001b[0mcoef_\u001b[0m\u001b[0;34m)\u001b[0m\u001b[0;34m\u001b[0m\u001b[0;34m\u001b[0m\u001b[0m\n\u001b[0m\u001b[1;32m      3\u001b[0m \u001b[0mc2\u001b[0m\u001b[0;34m=\u001b[0m\u001b[0;34m(\u001b[0m\u001b[0mlog_regress2\u001b[0m\u001b[0;34m.\u001b[0m\u001b[0mintercept_\u001b[0m\u001b[0;34m+\u001b[0m\u001b[0mnp\u001b[0m\u001b[0;34m.\u001b[0m\u001b[0mdot\u001b[0m\u001b[0;34m(\u001b[0m\u001b[0mXpdata\u001b[0m\u001b[0;34m,\u001b[0m\u001b[0mlog_regress2\u001b[0m\u001b[0;34m.\u001b[0m\u001b[0mcoef_\u001b[0m\u001b[0;34m.\u001b[0m\u001b[0mT\u001b[0m\u001b[0;34m)\u001b[0m\u001b[0;34m)\u001b[0m\u001b[0;34m/\u001b[0m\u001b[0mnp\u001b[0m\u001b[0;34m.\u001b[0m\u001b[0mlinalg\u001b[0m\u001b[0;34m.\u001b[0m\u001b[0mnorm\u001b[0m\u001b[0;34m(\u001b[0m\u001b[0mlog_regress2\u001b[0m\u001b[0;34m.\u001b[0m\u001b[0mcoef_\u001b[0m\u001b[0;34m)\u001b[0m\u001b[0;34m\u001b[0m\u001b[0;34m\u001b[0m\u001b[0m\n\u001b[1;32m      4\u001b[0m \u001b[0mc3\u001b[0m\u001b[0;34m=\u001b[0m\u001b[0;34m(\u001b[0m\u001b[0mlog_regress3\u001b[0m\u001b[0;34m.\u001b[0m\u001b[0mintercept_\u001b[0m\u001b[0;34m+\u001b[0m\u001b[0mnp\u001b[0m\u001b[0;34m.\u001b[0m\u001b[0mdot\u001b[0m\u001b[0;34m(\u001b[0m\u001b[0mXpdata\u001b[0m\u001b[0;34m,\u001b[0m\u001b[0mlog_regress3\u001b[0m\u001b[0;34m.\u001b[0m\u001b[0mcoef_\u001b[0m\u001b[0;34m.\u001b[0m\u001b[0mT\u001b[0m\u001b[0;34m)\u001b[0m\u001b[0;34m)\u001b[0m\u001b[0;34m/\u001b[0m\u001b[0mnp\u001b[0m\u001b[0;34m.\u001b[0m\u001b[0mlinalg\u001b[0m\u001b[0;34m.\u001b[0m\u001b[0mnorm\u001b[0m\u001b[0;34m(\u001b[0m\u001b[0mlog_regress3\u001b[0m\u001b[0;34m.\u001b[0m\u001b[0mcoef_\u001b[0m\u001b[0;34m)\u001b[0m\u001b[0;34m\u001b[0m\u001b[0;34m\u001b[0m\u001b[0m\n\u001b[1;32m      5\u001b[0m \u001b[0;31m# append and reshape for plotting\u001b[0m\u001b[0;34m\u001b[0m\u001b[0;34m\u001b[0m\u001b[0;34m\u001b[0m\u001b[0m\n",
      "\u001b[0;31mNameError\u001b[0m: name 'log_regress1' is not defined"
     ]
    }
   ],
   "source": [
    "# calculate model outputs\n",
    "c1=(log_regress1.intercept_+np.dot(Xpdata,log_regress1.coef_.T))/np.linalg.norm(log_regress1.coef_)\n",
    "c2=(log_regress2.intercept_+np.dot(Xpdata,log_regress2.coef_.T))/np.linalg.norm(log_regress2.coef_)\n",
    "c3=(log_regress3.intercept_+np.dot(Xpdata,log_regress3.coef_.T))/np.linalg.norm(log_regress3.coef_)\n",
    "# append and reshape for plotting\n",
    "c=np.hstack((c1,c2,c3))\n",
    "print(c)"
   ]
  },
  {
   "cell_type": "code",
   "execution_count": 1,
   "metadata": {},
   "outputs": [
    {
     "ename": "NameError",
     "evalue": "name 'np' is not defined",
     "output_type": "error",
     "traceback": [
      "\u001b[0;31m---------------------------------------------------------------------------\u001b[0m",
      "\u001b[0;31mNameError\u001b[0m                                 Traceback (most recent call last)",
      "\u001b[0;32m<ipython-input-1-beb4e01ceda8>\u001b[0m in \u001b[0;36m<module>\u001b[0;34m\u001b[0m\n\u001b[0;32m----> 1\u001b[0;31m \u001b[0mz\u001b[0m\u001b[0;34m=\u001b[0m\u001b[0mnp\u001b[0m\u001b[0;34m.\u001b[0m\u001b[0margmax\u001b[0m\u001b[0;34m(\u001b[0m\u001b[0mc\u001b[0m\u001b[0;34m,\u001b[0m\u001b[0maxis\u001b[0m\u001b[0;34m=\u001b[0m\u001b[0;36m1\u001b[0m\u001b[0;34m)\u001b[0m\u001b[0;34m\u001b[0m\u001b[0;34m\u001b[0m\u001b[0m\n\u001b[0m\u001b[1;32m      2\u001b[0m \u001b[0mz\u001b[0m\u001b[0;34m=\u001b[0m\u001b[0mz\u001b[0m\u001b[0;34m.\u001b[0m\u001b[0mreshape\u001b[0m\u001b[0;34m(\u001b[0m\u001b[0mxp1\u001b[0m\u001b[0;34m.\u001b[0m\u001b[0mshape\u001b[0m\u001b[0;34m)\u001b[0m\u001b[0;34m\u001b[0m\u001b[0;34m\u001b[0m\u001b[0m\n\u001b[1;32m      3\u001b[0m \u001b[0mplt\u001b[0m\u001b[0;34m.\u001b[0m\u001b[0mcontourf\u001b[0m\u001b[0;34m(\u001b[0m\u001b[0mxp1\u001b[0m\u001b[0;34m,\u001b[0m\u001b[0mxp2\u001b[0m\u001b[0;34m,\u001b[0m\u001b[0malpha\u001b[0m\u001b[0;34m=\u001b[0m\u001b[0;36m.2\u001b[0m\u001b[0;34m)\u001b[0m\u001b[0;34m\u001b[0m\u001b[0;34m\u001b[0m\u001b[0m\n",
      "\u001b[0;31mNameError\u001b[0m: name 'np' is not defined"
     ]
    }
   ],
   "source": [
    "z=np.argmax(c,axis=1)\n",
    "z=z.reshape(xp1.shape)\n",
    "plt.contourf(xp1,xp2,alpha=.2)"
   ]
  },
  {
   "cell_type": "code",
   "execution_count": 10,
   "metadata": {},
   "outputs": [],
   "source": [
    "import pandas as pd\n",
    "import numpy as np\n",
    "import matplotlib.pyplot as plt\n",
    "\n",
    "from sklearn import datasets\n",
    "from sklearn.neighbors import KNeighborsClassifier"
   ]
  },
  {
   "cell_type": "code",
   "execution_count": 11,
   "metadata": {},
   "outputs": [],
   "source": [
    "iris=datasets.load_iris()\n",
    "x1=iris.data[:,0]\n",
    "x2=iris.data[:,1]\n",
    "y=iris.target\n",
    "x=np.array([x1,x2])\n",
    "x=x.T\n",
    "\n"
   ]
  },
  {
   "cell_type": "code",
   "execution_count": 13,
   "metadata": {},
   "outputs": [
    {
     "data": {
      "text/plain": [
       "(2, 4)"
      ]
     },
     "execution_count": 13,
     "metadata": {},
     "output_type": "execute_result"
    },
    {
     "data": {
      "image/png": "[encoded data removed]",
      "text/plain": [
       "<Figure size 432x288 with 1 Axes>"
      ]
     },
     "metadata": {
      "needs_background": "light"
     },
     "output_type": "display_data"
    }
   ],
   "source": [
    "# scatter plot\n",
    "plt.scatter(x1[y==0],x2[y==0],c='r')\n",
    "plt.scatter(x1[y==1],x2[y==1],c='b')\n",
    "plt.scatter(x1[y==2],x2[y==2],c='orange')\n",
    "plt.grid(1)\n",
    "plt.legend(iris.target_names)\n",
    "plt.xlabel(iris.feature_names[0])\n",
    "plt.ylabel(iris.feature_names[1])\n",
    "plt.ylim(3,8)\n",
    "plt.ylim(2,4)\n",
    "\n"
   ]
  },
  {
   "cell_type": "code",
   "execution_count": 14,
   "metadata": {},
   "outputs": [
    {
     "data": {
      "text/plain": [
       "KNeighborsClassifier(n_neighbors=3)"
      ]
     },
     "execution_count": 14,
     "metadata": {},
     "output_type": "execute_result"
    }
   ],
   "source": [
    "k=3;\n",
    "knn=KNeighborsClassifier(k)\n",
    "knn.fit(x,y)\n",
    "\n",
    "\n"
   ]
  },
  {
   "cell_type": "code",
   "execution_count": 24,
   "metadata": {},
   "outputs": [],
   "source": [
    "# make predictions on whole grid\n",
    "xp1,xp2=np.meshgrid(np.linspace(3,8,100),np.linspace(2,4,100))\n",
    "# vectorize mesh grid\n",
    "xp1_v=xp1.reshape(-1,1)\n",
    "xp2_v=xp2.reshape(-1,1)\n",
    "Xpdata=np.append(xp1_v,xp2_v,axis=1) # stacking the vectors as a matrix\n",
    "\n"
   ]
  },
  {
   "cell_type": "code",
   "execution_count": 25,
   "metadata": {},
   "outputs": [
    {
     "data": {
      "text/plain": [
       "<matplotlib.collections.PathCollection at 0x12130e3c8>"
      ]
     },
     "execution_count": 25,
     "metadata": {},
     "output_type": "execute_result"
    },
    {
     "data": {
      "image/png": "[encoded data removed]",
      "text/plain": [
       "<Figure size 432x288 with 1 Axes>"
      ]
     },
     "metadata": {
      "needs_background": "light"
     },
     "output_type": "display_data"
    }
   ],
   "source": [
    "z=knn.predict(Xpdata)\n",
    "z=z.reshape(xp1.shape)\n",
    "plt.contourf(xp1,xp2,z,alpha=.2)\n",
    "# scatter plot\n",
    "plt.scatter(x1[y==0],x2[y==0],c='r')\n",
    "plt.scatter(x1[y==1],x2[y==1],c='b')\n",
    "plt.scatter(x1[y==2],x2[y==2],c='orange')"
   ]
  },
  {
   "cell_type": "code",
   "execution_count": 1,
   "metadata": {},
   "outputs": [],
   "source": [
    "import pandas as pd\n",
    "import numpy as np\n",
    "import matplotlib.pyplot as plt\n",
    "\n",
    "from sklearn import datasets\n",
    "from sklearn.cluster import KMeans"
   ]
  },
  {
   "cell_type": "code",
   "execution_count": 4,
   "metadata": {},
   "outputs": [
    {
     "data": {
      "text/plain": [
       "Text(0, 0.5, 'sepal width (cm)')"
      ]
     },
     "execution_count": 4,
     "metadata": {},
     "output_type": "execute_result"
    },
    {
     "data": {
      "image/png": "[encoded data removed]",
      "text/plain": [
       "<Figure size 432x288 with 1 Axes>"
      ]
     },
     "metadata": {
      "needs_background": "light"
     },
     "output_type": "display_data"
    }
   ],
   "source": [
    "iris=datasets.load_iris()\n",
    "X=iris.data[:,2:4]\n",
    "y=iris.target\n",
    "\n",
    "# scatter plot\n",
    "plt.scatter(X[y==0,0],X[y==0,1],c='r')\n",
    "plt.scatter(X[y==1,0],X[y==1,1],c='b')\n",
    "plt.scatter(X[y==2,0],X[y==2,1],c='orange')\n",
    "plt.grid(1)\n",
    "plt.legend(iris.target_names)\n",
    "plt.xlabel(iris.feature_names[0])\n",
    "plt.ylabel(iris.feature_names[1])\n",
    "\n",
    "\n"
   ]
  },
  {
   "cell_type": "code",
   "execution_count": 7,
   "metadata": {},
   "outputs": [],
   "source": [
    "# CLUSTER\n",
    "k=3;\n",
    "kmeans=KMeans(k)\n",
    "kmeans=kmeans.fit(X)\n",
    "# without a class\n",
    "\n"
   ]
  },
  {
   "cell_type": "code",
   "execution_count": 12,
   "metadata": {},
   "outputs": [
    {
     "data": {
      "text/plain": [
       "Text(0, 0.5, 'sepal width (cm)')"
      ]
     },
     "execution_count": 12,
     "metadata": {},
     "output_type": "execute_result"
    },
    {
     "data": {
      "image/png": "[encoded data removed]",
      "text/plain": [
       "<Figure size 432x288 with 1 Axes>"
      ]
     },
     "metadata": {
      "needs_background": "light"
     },
     "output_type": "display_data"
    }
   ],
   "source": [
    "# assign clustering labels\n",
    "labels=kmeans.predict(X)\n",
    "centroids=kmeans.cluster_centers_\n",
    "\n",
    "# scatter plot\n",
    "\n",
    "plt.scatter(X[y==0,0],X[y==0,1],c='r')\n",
    "plt.scatter(X[y==1,0],X[y==1,1],c='b')\n",
    "plt.scatter(X[y==2,0],X[y==2,1],c='orange')\n",
    "plt.scatter(X[labels==0,0],X[labels==0,1],marker='+',c='k')\n",
    "plt.scatter(X[labels==1,0],X[labels==1,1],marker='_',c='k')\n",
    "plt.scatter(X[labels==2,0],X[labels==2,1],marker='x',c='k')\n",
    "plt.scatter(centroids[:,0],centroids[:,1],marker='D',c='g')\n",
    "plt.legend(iris.target_names)\n",
    "plt.xlabel(iris.feature_names[0])\n",
    "plt.ylabel(iris.feature_names[1])"
   ]
  },
  {
   "cell_type": "code",
   "execution_count": 25,
   "metadata": {},
   "outputs": [
    {
     "ename": "ValueError",
     "evalue": "operands could not be broadcast together with shapes (150,2) (2,2) ",
     "output_type": "error",
     "traceback": [
      "\u001b[0;31m---------------------------------------------------------------------------\u001b[0m",
      "\u001b[0;31mValueError\u001b[0m                                Traceback (most recent call last)",
      "\u001b[0;32m<ipython-input-25-a44752363971>\u001b[0m in \u001b[0;36m<module>\u001b[0;34m\u001b[0m\n\u001b[1;32m     10\u001b[0m     \u001b[0md\u001b[0m\u001b[0;34m=\u001b[0m\u001b[0;36m0\u001b[0m\u001b[0;34m\u001b[0m\u001b[0;34m\u001b[0m\u001b[0m\n\u001b[1;32m     11\u001b[0m     \u001b[0;32mfor\u001b[0m \u001b[0mp\u001b[0m \u001b[0;32min\u001b[0m \u001b[0mrange\u001b[0m\u001b[0;34m(\u001b[0m\u001b[0;36m0\u001b[0m\u001b[0;34m,\u001b[0m\u001b[0mX\u001b[0m\u001b[0;34m.\u001b[0m\u001b[0mshape\u001b[0m\u001b[0;34m[\u001b[0m\u001b[0;36m0\u001b[0m\u001b[0;34m]\u001b[0m\u001b[0;34m)\u001b[0m\u001b[0;34m:\u001b[0m\u001b[0;34m\u001b[0m\u001b[0;34m\u001b[0m\u001b[0m\n\u001b[0;32m---> 12\u001b[0;31m         \u001b[0md\u001b[0m\u001b[0;34m+=\u001b[0m\u001b[0mnp\u001b[0m\u001b[0;34m.\u001b[0m\u001b[0msqrt\u001b[0m\u001b[0;34m(\u001b[0m\u001b[0mnp\u001b[0m\u001b[0;34m.\u001b[0m\u001b[0msum\u001b[0m\u001b[0;34m(\u001b[0m\u001b[0;34m(\u001b[0m\u001b[0mX\u001b[0m\u001b[0;34m-\u001b[0m\u001b[0mcentroids\u001b[0m\u001b[0;34m)\u001b[0m\u001b[0;34m**\u001b[0m\u001b[0;36m2\u001b[0m\u001b[0;34m)\u001b[0m\u001b[0;34m)\u001b[0m\u001b[0;34m\u001b[0m\u001b[0;34m\u001b[0m\u001b[0m\n\u001b[0m\u001b[1;32m     13\u001b[0m     \u001b[0mavg_dist\u001b[0m\u001b[0;34m.\u001b[0m\u001b[0mappend\u001b[0m\u001b[0;34m(\u001b[0m\u001b[0md\u001b[0m\u001b[0;34m/\u001b[0m\u001b[0mX\u001b[0m\u001b[0;34m.\u001b[0m\u001b[0mshape\u001b[0m\u001b[0;34m[\u001b[0m\u001b[0;36m0\u001b[0m\u001b[0;34m]\u001b[0m\u001b[0;34m)\u001b[0m\u001b[0;34m\u001b[0m\u001b[0;34m\u001b[0m\u001b[0m\n\u001b[1;32m     14\u001b[0m \u001b[0mplt\u001b[0m\u001b[0;34m.\u001b[0m\u001b[0mplot\u001b[0m\u001b[0;34m(\u001b[0m\u001b[0mrange\u001b[0m\u001b[0;34m(\u001b[0m\u001b[0;36m2\u001b[0m\u001b[0;34m,\u001b[0m\u001b[0mK_max\u001b[0m\u001b[0;34m)\u001b[0m\u001b[0;34m,\u001b[0m\u001b[0mavg_dist\u001b[0m\u001b[0;34m)\u001b[0m\u001b[0;34m\u001b[0m\u001b[0;34m\u001b[0m\u001b[0m\n",
      "\u001b[0;31mValueError\u001b[0m: operands could not be broadcast together with shapes (150,2) (2,2) "
     ]
    }
   ],
   "source": [
    "# scree plot\n",
    "# the plot with the elbow\n",
    "K_max=6\n",
    "avg_dist=[]\n",
    "for k in range(2,K_max):\n",
    "    kmeans=KMeans(k)\n",
    "    kmeans=kmeans.fit(X)\n",
    "    # assign labels as per clustering\n",
    "    centroids=kmeans.cluster_centers_\n",
    "    d=0\n",
    "    for p in range(0,X.shape[0]):\n",
    "        d+=np.sqrt(np.sum((X-centroids)**2))\n",
    "    avg_dist.append(d/X.shape[0])\n",
    "plt.plot(range(2,K_max),avg_dist)\n"
   ]
  },
  {
   "cell_type": "code",
   "execution_count": 14,
   "metadata": {},
   "outputs": [
    {
     "data": {
      "text/plain": [
       "150"
      ]
     },
     "execution_count": 14,
     "metadata": {},
     "output_type": "execute_result"
    }
   ],
   "source": [
    "X.shape[0]\n"
   ]
  },
  {
   "cell_type": "code",
   "execution_count": 15,
   "metadata": {},
   "outputs": [
    {
     "data": {
      "text/plain": [
       "array([[1.462     , 0.246     ],\n",
       "       [5.59583333, 2.0375    ],\n",
       "       [4.26923077, 1.34230769]])"
      ]
     },
     "execution_count": 15,
     "metadata": {},
     "output_type": "execute_result"
    }
   ],
   "source": [
    "centroids"
   ]
  },
  {
   "cell_type": "code",
   "execution_count": 21,
   "metadata": {},
   "outputs": [
    {
     "data": {
      "text/plain": [
       "array([[3.77368421, 1.15263158],\n",
       "       [3.77368421, 1.15263158]])"
      ]
     },
     "execution_count": 21,
     "metadata": {},
     "output_type": "execute_result"
    }
   ],
   "source": [
    "centroids[labels[0:2]]\n",
    "          "
   ]
  },
  {
   "cell_type": "code",
   "execution_count": null,
   "metadata": {},
   "outputs": [],
   "source": []
  }
 ],
 "metadata": {
  "kernelspec": {
   "display_name": "Python 3",
   "language": "python",
   "name": "python3"
  },
  "language_info": {
   "codemirror_mode": {
    "name": "ipython",
    "version": 3
   },
   "file_extension": ".py",
   "mimetype": "text/x-python",
   "name": "python",
   "nbconvert_exporter": "python",
   "pygments_lexer": "ipython3",
   "version": "3.7.1"
  }
 },
 "nbformat": 4,
 "nbformat_minor": 2
}
