{
 "cells": [
  {
   "cell_type": "code",
   "execution_count": 3,
   "metadata": {},
   "outputs": [],
   "source": [
    "import tarfile\n",
    "import urllib\n",
    "import math\n",
    "import matplotlib.pyplot as plt\n",
    "import numpy as np\n",
    "import pandas as pd\n",
    "import random\n",
    "from numpy import linalg"
   ]
  },
  {
   "cell_type": "code",
   "execution_count": 4,
   "metadata": {},
   "outputs": [],
   "source": [
    "# creating training data\n",
    "x1 = [0.1,0.3,0.1,0.6,0.4,0.6,0.5,0.9,0.4,0.7]\n",
    "x2 = [0.1,0.4,0.5,0.9,0.2,0.3,0.6,0.2,0.4,0.6]\n"
   ]
  },
  {
   "cell_type": "code",
   "execution_count": 7,
   "metadata": {},
   "outputs": [
    {
     "data": {
      "text/plain": [
       "(2, 10)"
      ]
     },
     "execution_count": 7,
     "metadata": {},
     "output_type": "execute_result"
    }
   ],
   "source": [
    "y1=np.ones(5);\n",
    "y2= np.zeros(5);\n",
    "y3= np.concatenate((y1,y2))\n",
    "y4=np.concatenate((y2,y1))\n",
    "y=np.vstack((y3,y4))\n",
    "y=np.array(y)\n",
    "y.shape"
   ]
  },
  {
   "cell_type": "code",
   "execution_count": null,
   "metadata": {},
   "outputs": [],
   "source": []
  },
  {
   "cell_type": "code",
   "execution_count": 128,
   "metadata": {},
   "outputs": [
    {
     "name": "stdout",
     "output_type": "stream",
     "text": [
      "W2=  [[-0.81731492 -2.36387699]\n",
      " [-0.68203002 -0.89499375]]\n",
      "W3=  [[-0.83919986  0.28412682]\n",
      " [ 1.12000612 -0.87889448]\n",
      " [-0.05650732  0.69144013]]\n",
      "W4=  [[ 0.06726083 -0.97762191 -0.1855085 ]\n",
      " [ 0.90896838  0.70694279 -0.3699241 ]]\n",
      "b2=  [[-0.1314706 ]\n",
      " [ 0.50901754]]\n",
      "b3=  [[-0.28958784]\n",
      " [-0.54620045]\n",
      " [-0.26768891]]\n",
      "b4=  [[-0.26978014]\n",
      " [-0.82908278]]\n"
     ]
    }
   ],
   "source": [
    "W2= np.random.normal(0, 1, (2,2))\n",
    "W3 = np.random.normal(0, 1,(3,2))\n",
    "W4 = 0.5*np.random.normal(0, 1,(2,3))\n",
    "b2 = 0.5*np.random.normal(0, 1,(2,1))\n",
    "b3 = 0.5*np.random.normal(0, 1,(3,1))\n",
    "b4 = 0.5*np.random.normal(0, 1,(2,1))\n",
    "\n",
    "print(\"W2= \",W2)\n",
    "print(\"W3= \",W3)\n",
    "print(\"W4= \",W4)\n",
    "print(\"b2= \",b2)\n",
    "print(\"b3= \",b3)\n",
    "print(\"b4= \",b4)\n",
    "\n",
    "    "
   ]
  },
  {
   "cell_type": "code",
   "execution_count": 129,
   "metadata": {},
   "outputs": [],
   "source": [
    "eta = 0.05        # learning rate       \n",
    "Niter = 100000     #number of SG iterations 1e6\n",
    "savecost = np.zeros(int(Niter)) # value of cost function at each iteration\n",
    "\n"
   ]
  },
  {
   "cell_type": "code",
   "execution_count": 130,
   "metadata": {},
   "outputs": [],
   "source": [
    "def activate(x,W,b):\n",
    "  \n",
    "    return 1/(1+np.exp(-(W.dot(x)+b)))\n"
   ]
  },
  {
   "cell_type": "code",
   "execution_count": 131,
   "metadata": {},
   "outputs": [],
   "source": [
    "def cost(W2,W3,W4,b2,b3,b4):\n",
    "    costvec = np.zeros(10);\n",
    "    for i in range (10):\n",
    "        x = np.vstack((x1[i],x2[i]))\n",
    "        a2 = activate(x,W2,b2)\n",
    "        a3 = activate(a2,W3,b3)\n",
    "        a4 = activate(a3,W4,b4)\n",
    "        d=y[:,i].reshape(2,1)- a4\n",
    "        costvec[i] = np.linalg.norm(d)\n",
    "    return np.linalg.norm(costvec)*np.linalg.norm(costvec) #np.linalg.norm for euclidean norm\n"
   ]
  },
  {
   "cell_type": "code",
   "execution_count": 132,
   "metadata": {},
   "outputs": [],
   "source": [
    "\n",
    "for counter in range(Niter):\n",
    "    k = random.randint(0,9)      # choose a training point at random\n",
    "    x = np.array([x1[k] ,x2[k]]).reshape(2,1)\n",
    "    #forward pass\n",
    "    a2 = activate(x,W2,b2)\n",
    "    a3 = activate(a2,W3,b3)\n",
    "    a4 = activate(a3,W4,b4)\n",
    "    # Backward pass\n",
    "    delta4 = np.multiply(np.multiply(a4,(1-a4)),(a4-y[:,k].reshape(2,1))) #np.multiply for element wise vector multi\n",
    "    delta3 =np.multiply(np.multiply(a3,(1-a3)),(W4.T.dot(delta4)))\n",
    "    delta2 = np.multiply(np.multiply(a2,(1-a2)),(W3.T.dot(delta3)))\n",
    "    #gradient step\n",
    "    W2 = W2 - eta*delta2.dot(x.reshape(1,2))\n",
    "    W3 = W3 - eta*delta3.dot(a2.T)\n",
    "    W4 = W4 - eta*delta4.dot(a3.T)\n",
    "    b2 = b2 - eta*delta2;\n",
    "    b3 = b3 - eta*delta3;\n",
    "    b4 = b4 - eta*delta4;\n",
    "    newcost = cost(W2,W3,W4,b2,b3,b4)\n",
    "    savecost[counter] = newcost\n",
    "    "
   ]
  },
  {
   "cell_type": "code",
   "execution_count": 121,
   "metadata": {},
   "outputs": [
    {
     "data": {
      "text/plain": [
       "array([[1., 0.]])"
      ]
     },
     "execution_count": 121,
     "metadata": {},
     "output_type": "execute_result"
    }
   ],
   "source": [
    "s=y[:,1]\n",
    "s.reshape(2,1)\n",
    "s.reshape(1,2)"
   ]
  },
  {
   "cell_type": "code",
   "execution_count": 133,
   "metadata": {},
   "outputs": [
    {
     "data": {
      "image/png": "[encoded data removed]",
      "text/plain": [
       "<Figure size 432x288 with 1 Axes>"
      ]
     },
     "metadata": {
      "needs_background": "light"
     },
     "output_type": "display_data"
    }
   ],
   "source": [
    "\n",
    "#semilogy([1:1e4:Niter`],savecost(1:1e4:Niter))\n",
    "a= np.arange(1,Niter, 100)\n",
    "\n",
    "plt.semilogy(a, savecost[a])\n",
    "\n",
    "plt.show()"
   ]
  },
  {
   "cell_type": "code",
   "execution_count": 134,
   "metadata": {},
   "outputs": [
    {
     "name": "stdout",
     "output_type": "stream",
     "text": [
      "Properly trained Weight matrices and bias vectors:\n",
      "W2=  [[ -2.35075385  -3.2789506 ]\n",
      " [-11.19185255  -6.28927098]]\n",
      "W3=  [[-1.10418688 -2.18247417]\n",
      " [-0.37533465 -8.29466988]\n",
      " [ 0.83569915  6.98828262]]\n",
      "W4=  [[-0.10703226 -4.50574848  4.93564639]\n",
      " [ 1.20947927  4.12068334 -4.82906526]]\n",
      "b2=  [[-0.8538935 ]\n",
      " [ 5.70307262]]\n",
      "b3=  [[ 1.00182419]\n",
      " [ 3.90926243]\n",
      " [-3.64119868]]\n",
      "b4=  [[ 2.42396753]\n",
      " [-2.79066177]]\n"
     ]
    }
   ],
   "source": [
    "#part 2\n",
    "print(\"Properly trained Weight matrices and bias vectors:\")\n",
    "print(\"W2= \", W2)\n",
    "print(\"W3= \", W3)\n",
    "print(\"W4= \", W4)\n",
    "print(\"b2= \", b2)\n",
    "print(\"b3= \", b3)\n",
    "print(\"b4= \", b4)"
   ]
  },
  {
   "cell_type": "code",
   "execution_count": 135,
   "metadata": {},
   "outputs": [
    {
     "name": "stdout",
     "output_type": "stream",
     "text": [
      "[[0.27639894]\n",
      " [0.71998391]]\n",
      "x_test is in category 2\n",
      "category 2: \n"
     ]
    },
    {
     "data": {
      "text/plain": [
       "array([[0],\n",
       "       [1]])"
      ]
     },
     "execution_count": 135,
     "metadata": {},
     "output_type": "execute_result"
    }
   ],
   "source": [
    "    x_test=np.array([0.333,0.5]).reshape(2,1)\n",
    "    #forward pass\n",
    "    a2 = activate(x_test,W2,b2)\n",
    "    a3 = activate(a2,W3,b3)\n",
    "    a4 = activate(a3,W4,b4)\n",
    "    print(a4)\n",
    "    #therefore it belongs to category 2,as the a4 vector is closer to y=[0;1]\n",
    "    print(\"x_test is in category 2\")\n",
    "    print(\"category 2: \")\n",
    "    y=np.vstack([0,1])\n",
    "    y"
   ]
  },
  {
   "cell_type": "code",
   "execution_count": 73,
   "metadata": {},
   "outputs": [
    {
     "data": {
      "text/plain": [
       "array([[0.3],\n",
       "       [0.4]])"
      ]
     },
     "execution_count": 73,
     "metadata": {},
     "output_type": "execute_result"
    }
   ],
   "source": [
    "#testing\n",
    "i=1\n",
    "x = np.vstack((x1[i],x2[i]))\n",
    "x"
   ]
  }
 ],
 "metadata": {
  "kernelspec": {
   "display_name": "Python 3",
   "language": "python",
   "name": "python3"
  },
  "language_info": {
   "codemirror_mode": {
    "name": "ipython",
    "version": 3
   },
   "file_extension": ".py",
   "mimetype": "text/x-python",
   "name": "python",
   "nbconvert_exporter": "python",
   "pygments_lexer": "ipython3",
   "version": "3.7.1"
  }
 },
 "nbformat": 4,
 "nbformat_minor": 2
}
