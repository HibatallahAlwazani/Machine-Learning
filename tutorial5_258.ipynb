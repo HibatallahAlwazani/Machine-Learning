{
 "cells": [
  {
   "cell_type": "code",
   "execution_count": 4,
   "metadata": {},
   "outputs": [
    {
     "name": "stdout",
     "output_type": "stream",
     "text": [
      "[5, -2*I, 2*I]\n"
     ]
    }
   ],
   "source": [
    "from sympy import *\n",
    "x=Symbol('x')\n",
    "expr=Eq(x**3-5*x**2+4*x-5,15)\n",
    "sol=solve(expr,x)\n",
    "print(sol)"
   ]
  },
  {
   "cell_type": "code",
   "execution_count": 19,
   "metadata": {},
   "outputs": [
    {
     "data": {
      "text/plain": [
       "2.5758293035489004"
      ]
     },
     "execution_count": 19,
     "metadata": {},
     "output_type": "execute_result"
    }
   ],
   "source": [
    "import scipy.stats as st\n",
    "st.norm.ppf(.995)\n",
    "#st.norm.ppf(.998)"
   ]
  },
  {
   "cell_type": "markdown",
   "metadata": {},
   "source": [
    "Solving for $t$ $$\\frac{2-0.35\\frac{1}{t}}{0.02\\frac{1}{t}}=2.575$$"
   ]
  },
  {
   "cell_type": "code",
   "execution_count": 2,
   "metadata": {},
   "outputs": [
    {
     "name": "stdout",
     "output_type": "stream",
     "text": [
      "[0.200750000000000]\n"
     ]
    }
   ],
   "source": [
    "from sympy import *\n",
    "x=Symbol('x')\n",
    "expr=Eq((2-0.35*1/x)/(1/x*0.02),2.575)\n",
    "sol=solve(expr,x)\n",
    "print(sol)"
   ]
  },
  {
   "cell_type": "markdown",
   "metadata": {},
   "source": [
    "Solving for $h$ $$\\frac{3-\\frac{4\\times500 \\times(10\\times 12)^3}{2*h^3*30*10^6}}{\\sqrt{(\\frac{4 \\times(10\\times 12)^3}{2\\times h^3\\times30\\times 10^6})^2\\times 100^2+(\\frac{-4 \\times 500\\times(10\\times 12)^3}{2^2\\times h^3 \\times 30 \\times 10^6})^2*\\frac{0.2}{3}^2}}=2.88$$"
   ]
  },
  {
   "cell_type": "code",
   "execution_count": 12,
   "metadata": {},
   "outputs": [
    {
     "name": "stdout",
     "output_type": "stream",
     "text": [
      "[3.12138347777152, -1.56069173888576 - 2.70319738670315*I, -1.56069173888576 + 2.70319738670315*I]\n"
     ]
    }
   ],
   "source": [
    "from sympy import *\n",
    "x=Symbol('x')\n",
    "denom=(((4*(10*12)**3)/(2*x**3*30*10**6))**2*100**2+((-4*500*(10*12)**3)/(2**2*x**3*30*10**6))**2*(0.2/3)**2)**0.5\n",
    "expr=Eq((3-(4*500*(10*12)**3)/(2*x**3*30*10**6))/denom,2.88)\n",
    "sol=solve(expr,x)\n",
    "print(sol)"
   ]
  },
  {
   "cell_type": "code",
   "execution_count": 1,
   "metadata": {},
   "outputs": [
    {
     "name": "stdout",
     "output_type": "stream",
     "text": [
      "[21740.0666662566]\n"
     ]
    }
   ],
   "source": [
    "from sympy import *\n",
    "x=Symbol('x')\n",
    "denom=(((4*(5*12)**3)/(5*4**3*30*10**6))**2*100**2+((12*x*(5*12)**2)/(5*4**3*30*10**6))**2*(0.5/3)**2)**0.5\n",
    "expr=Eq((2-(4*x*(5*12)**3)/(5*4**3*30*10**6))/denom,2.33)\n",
    "sol=solve(expr,x)\n",
    "print(sol)"
   ]
  },
  {
   "cell_type": "code",
   "execution_count": 7,
   "metadata": {},
   "outputs": [
    {
     "name": "stdout",
     "output_type": "stream",
     "text": [
      "[-68691510.0823780, 21982.1853823169]\n"
     ]
    }
   ],
   "source": [
    "from sympy import *\n",
    "x=Symbol('x')\n",
    "#denom=(sqrt(((4*(5*12)**3)/(5*4**3*30*10**6))**2*100**2+((12*x*(5*12)**2)/(5*4**3*30*10**6))**2*((0.5/3)**2)))\n",
    "expr=Eq(((2-((4*x*(5*12)**3)/(5*4**3*30*10**6)))/(sqrt((((4*(5*12)**3)/(5*4**3*30*10**6))**2)*(100**2))+(((12*x*(5*12)**2)/(5*4**3*30*10**6))**2*((0.5/3)**2)))),2.33)\n",
    "sol=solve(expr,x)\n",
    "print(sol)"
   ]
  }
 ],
 "metadata": {
  "kernelspec": {
   "display_name": "Python 3",
   "language": "python",
   "name": "python3"
  },
  "language_info": {
   "codemirror_mode": {
    "name": "ipython",
    "version": 3
   },
   "file_extension": ".py",
   "mimetype": "text/x-python",
   "name": "python",
   "nbconvert_exporter": "python",
   "pygments_lexer": "ipython3",
   "version": "3.7.1"
  }
 },
 "nbformat": 4,
 "nbformat_minor": 2
}
