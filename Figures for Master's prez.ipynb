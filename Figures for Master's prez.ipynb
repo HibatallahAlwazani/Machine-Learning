{
 "cells": [
  {
   "cell_type": "code",
   "execution_count": 1,
   "metadata": {},
   "outputs": [],
   "source": [
    "import numpy as np\n",
    "import pylab as p\n",
    "import matplotlib.animation as an\n",
    "import matplotlib\n",
    "import matplotlib.pyplot as plt\n",
    "from IPython.display import HTML\n",
    "import matplotlib.pyplot as plt\n",
    "ffwriter = an.writers['ffmpeg']\n",
    "metadata = dict(title = 'Animation',artist = 'me')\n",
    "\n",
    "writer = ffwriter(fps = 5,metadata = metadata)\n",
    "fig = plt.figure()\n",
    "\n",
    "l, = plt.plot([],[],'.b',linewidth=2, label=\"USER\")\n",
    "#l,=plt.scatter([],[],marker='^',color='k',linewidths=0.5)\n",
    "plt.xlabel('distance (m)')\n",
    "plt.ylabel('distance (m)')\n",
    "plt.title('Distributed IRSs Scenario')\n",
    "#p.legend('User')\n",
    "plt.xlim(-50,150); p.ylim(-50,150);\n",
    "plt.grid(color='k', linestyle='-.', linewidth=0.5)\n",
    "K=4;\n",
    "L=8;\n",
    "#p.plot(irs_x0,irs_y0,'ok')\n",
    "x0 = np.random.randint(80,130, K)\n",
    "y0 = np.random.randint(-30,30, K)\n",
    "irs_x0=np.random.randint(100,101, L)\n",
    "irs_y0=np.random.randint(-50,50, L)\n",
    "bs_x=0\n",
    "bs_y=0\n",
    "plt.scatter(irs_x0,irs_y0,marker='^',color='k',linewidth=1, label=\"IRS\")\n",
    "plt.scatter(bs_x,bs_y,marker='x',color='r',linewidth=3, label=\"BS\")\n",
    "plt.legend()\n",
    "with writer.saving(fig,'animation1.mp4',100):\n",
    "    for i in range(200):\n",
    "        x0 = x0+0.5 * np.random.randint(-4,4, K)\n",
    "        y0 = y0+0.5* np.random.randint(-2,2, K) #np.random.randn(10)\n",
    "        l.set_data(x0,y0)\n",
    "        \n",
    "        writer.grab_frame()\n",
    "        "
   ]
  },
  {
   "cell_type": "code",
   "execution_count": null,
   "metadata": {},
   "outputs": [],
   "source": []
  },
  {
   "cell_type": "code",
   "execution_count": null,
   "metadata": {},
   "outputs": [],
   "source": []
  },
  {
   "cell_type": "code",
   "execution_count": null,
   "metadata": {},
   "outputs": [],
   "source": []
  },
  {
   "cell_type": "code",
   "execution_count": null,
   "metadata": {},
   "outputs": [],
   "source": []
  },
  {
   "cell_type": "code",
   "execution_count": 11,
   "metadata": {},
   "outputs": [
    {
     "data": {
      "text/plain": [
       "array([ 1.52534502, -0.00769906,  0.94251805, -0.14757866,  0.80074681,\n",
       "        0.39432401,  0.24810069, -1.60641829, -0.49840797, -0.30972171])"
      ]
     },
     "execution_count": 11,
     "metadata": {},
     "output_type": "execute_result"
    }
   ],
   "source": [
    "x0\n",
    "np.random.randn(10)"
   ]
  }
 ],
 "metadata": {
  "kernelspec": {
   "display_name": "Python 3",
   "language": "python",
   "name": "python3"
  },
  "language_info": {
   "codemirror_mode": {
    "name": "ipython",
    "version": 3
   },
   "file_extension": ".py",
   "mimetype": "text/x-python",
   "name": "python",
   "nbconvert_exporter": "python",
   "pygments_lexer": "ipython3",
   "version": "3.7.1"
  }
 },
 "nbformat": 4,
 "nbformat_minor": 2
}
