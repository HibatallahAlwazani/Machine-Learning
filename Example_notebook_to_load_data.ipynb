{
 "cells": [
  {
   "cell_type": "code",
   "execution_count": 1,
   "metadata": {},
   "outputs": [],
   "source": [
    "import os\n",
    "os.environ[\"CUDA_VISIBLE_DEVICES\"]=\"2\"  # specify which GPU(s) to be used\n",
    "import numpy as np\n",
    "import h5py\n",
    "import matplotlib.pyplot as plt\n",
    "import os.path\n",
    "import pandas as pd"
   ]
  },
  {
   "cell_type": "code",
   "execution_count": 2,
   "metadata": {},
   "outputs": [],
   "source": [
    "CTW_labelled = \"/Users/hiba/Desktop/Deep Learning/CTW2020_labelled_data/\""
   ]
  },
  {
   "cell_type": "code",
   "execution_count": 3,
   "metadata": {},
   "outputs": [],
   "source": [
    "def get_data(data_file):\n",
    "    \n",
    "    f = h5py.File(data_file, 'r')\n",
    "    H_Re = f['H_Re'][:] #shape (sample size, 56, 924, 5)\n",
    "    H_Im = f['H_Im'][:] #shape (sample size, 56, 924, 5)\n",
    "    SNR = f['SNR'][:] #shape (sample size, 56, 5)\n",
    "    Pos = f['Pos'][:] #shape(sample size, 3)\n",
    "    f.close()\n",
    "            \n",
    "    return H_Re, H_Im, SNR, Pos        "
   ]
  },
  {
   "cell_type": "code",
   "execution_count": 4,
   "metadata": {},
   "outputs": [
    {
     "data": {
      "text/plain": [
       "'/Users/hiba/Desktop/Deep Learning/CTW2020_labelled_data/file_1.hdf5'"
      ]
     },
     "execution_count": 4,
     "metadata": {},
     "output_type": "execute_result"
    }
   ],
   "source": [
    "data_file = CTW_labelled +\"file_1.hdf5\"\n",
    "data_file"
   ]
  },
  {
   "cell_type": "code",
   "execution_count": 6,
   "metadata": {},
   "outputs": [
    {
     "name": "stdout",
     "output_type": "stream",
     "text": [
      "H_Re is of shape (512, 56, 924, 5)\n",
      "H_Im is of shape (512, 56, 924, 5)\n",
      "SNR is of shape (512, 56, 5)\n",
      "Pos is of shape (512, 3)\n"
     ]
    }
   ],
   "source": [
    "\n",
    "H_Re, H_Im, SNR, Pos = get_data(data_file)\n",
    "\n",
    "print(\"H_Re is of shape {}\".format(H_Re.shape))\n",
    "print(\"H_Im is of shape {}\".format(H_Im.shape))\n",
    "print(\"SNR is of shape {}\".format(SNR.shape))\n",
    "print(\"Pos is of shape {}\".format(Pos.shape))"
   ]
  },
  {
   "cell_type": "code",
   "execution_count": 7,
   "metadata": {},
   "outputs": [
    {
     "data": {
      "text/plain": [
       "132464640"
      ]
     },
     "execution_count": 7,
     "metadata": {},
     "output_type": "execute_result"
    }
   ],
   "source": [
    "H_Re=np.array(H_Re)\n",
    "H_Im=np.array(H_Im)\n",
    "SNR=np.array(SNR)\n",
    "Pos=np.array(Pos)\n",
    "H_Re.size"
   ]
  },
  {
   "cell_type": "code",
   "execution_count": 8,
   "metadata": {},
   "outputs": [],
   "source": [
    "hf = h5py.File(data_file, 'r')\n",
    "data = hf.get(data_file)# `data` is now an ndarray.\n"
   ]
  },
  {
   "cell_type": "code",
   "execution_count": 9,
   "metadata": {},
   "outputs": [],
   "source": [
    "import tarfile\n",
    "import urllib\n",
    "import math\n",
    "import matplotlib.pyplot as plt\n",
    "import numpy as np\n",
    "import pandas as pd\n",
    "import random\n",
    "from numpy import linalg"
   ]
  },
  {
   "cell_type": "code",
   "execution_count": 10,
   "metadata": {},
   "outputs": [
    {
     "name": "stdout",
     "output_type": "stream",
     "text": [
      "H_Re is of shape (10, 56, 924, 5)\n",
      "H_Im is of shape (10, 56, 924, 5)\n",
      "SNR is of shape (10, 56, 5)\n",
      "Pos is of shape (10, 3)\n"
     ]
    }
   ],
   "source": [
    "\n",
    "H_Re=H_Re[[1,2,3,4,5,6,7,8,9,10],:,:,:]\n",
    "H_Im=H_Im[[1,2,3,4,5,6,7,8,9,10],:,:,:]\n",
    "SNR=SNR[[1,2,3,4,5,6,7,8,9,10],:,:]\n",
    "Pos=Pos[[1,2,3,4,5,6,7,8,9,10],:]\n",
    "\n",
    "print(\"H_Re is of shape {}\".format(H_Re.shape))\n",
    "print(\"H_Im is of shape {}\".format(H_Im.shape))\n",
    "print(\"SNR is of shape {}\".format(SNR.shape))\n",
    "print(\"Pos is of shape {}\".format(Pos.shape))"
   ]
  },
  {
   "cell_type": "code",
   "execution_count": 11,
   "metadata": {},
   "outputs": [
    {
     "name": "stdout",
     "output_type": "stream",
     "text": [
      "(50, 103544)\n",
      "(50, 3)\n"
     ]
    }
   ],
   "source": [
    "\n",
    "H_Re_new=np.reshape(H_Re, (10*5,56*924))\n",
    "H_Im_new=np.reshape(H_Im, (10*5,56*924))# check the reshape with one example\n",
    "SNR_new=np.reshape(SNR, (10*5,56))\n",
    "H=np.concatenate((H_Re_new,H_Im_new,SNR_new),axis=1)\n",
    "print(H.shape)\n",
    "Pos=np.repeat(Pos,5,axis=0) #to indicate points for the five trials\n",
    "print(Pos.shape)"
   ]
  },
  {
   "cell_type": "code",
   "execution_count": 12,
   "metadata": {},
   "outputs": [
    {
     "name": "stdout",
     "output_type": "stream",
     "text": [
      "W2=  [[-0.14620548 -1.77241432 -0.36168286 ... -0.54016085  1.51652435\n",
      "   2.39865003]\n",
      " [ 0.4926466  -0.09739686 -0.81244714 ... -2.1569687  -0.96399045\n",
      "   0.32530538]\n",
      " [ 0.13574207  1.02570107 -0.76759769 ...  0.75866975 -0.69718736\n",
      "  -0.83794408]\n",
      " ...\n",
      " [ 0.08057414 -2.02232452 -0.30771495 ...  1.61261812 -0.81314089\n",
      "   0.94365064]\n",
      " [ 0.32720168  1.80934281  0.5711663  ... -0.11624013 -1.16052145\n",
      "   0.25503964]\n",
      " [-1.17111793  1.01704254 -0.29323285 ...  0.68086799  0.50563034\n",
      "   0.44823739]]\n",
      "W3=  [[-1.11004688 -1.53659167 -0.89052932  0.22409231  1.11680807 -0.18676393\n",
      "  -0.41985926 -1.49575502 -0.64215749 -0.74540662  0.09321416  0.12719583\n",
      "  -0.75529771 -0.50682099  0.94052203  0.2072236   0.32980267 -0.91612273\n",
      "   0.5556706   0.80213392 -0.38491089  1.41053033  0.65534711 -0.96162187\n",
      "   0.44278122 -1.24208847 -0.10484718 -0.54490108 -0.49323142  0.29105054\n",
      "  -1.46961586  0.15083363  0.37106686 -1.6269679  -1.36239694 -1.13936758\n",
      "   2.45651813  0.44643555 -0.5964721   1.03770121  1.00573498  0.00577423\n",
      "  -2.03161788  0.42848932  1.83698603  0.24261677 -0.22986875 -1.14746321\n",
      "  -0.62748895 -1.15413531 -1.0303308   0.76794541  1.15405301  0.78249239\n",
      "   0.60527691  0.76522491  0.56339755 -0.51972903  0.06327001 -0.37924928\n",
      "  -1.63823087  0.88825009  1.08910937  1.63162302  1.37286643  0.5181884\n",
      "   3.3594242   0.07236313  0.39911585  0.86957421 -0.59599919 -0.19731427\n",
      "  -0.56896877 -0.72256674 -2.77705354  2.0213436  -0.03543279  1.18420505\n",
      "  -0.80316403  0.54050388  0.05469425 -1.85072939 -0.46915306  0.21721916\n",
      "  -0.94638269 -2.2537487   0.91777884 -0.9039838   0.71924063  0.98503521\n",
      "   0.74078625 -1.22203096  1.15093653  0.82595868 -1.16228411  1.08117869\n",
      "  -0.00552541  1.585284    1.19469967 -1.26614943  0.87093495  0.71276352\n",
      "   0.03044106]\n",
      " [-0.5679801   1.62766925 -1.76664688  0.76845284  0.5936368  -0.9702965\n",
      "   0.65651545 -0.98652832 -1.34397086 -1.12731842 -0.57712744 -0.80804846\n",
      "  -0.8222228  -0.54586498 -2.28055436  0.41011028 -0.1815223  -0.08566607\n",
      "  -0.95806638 -0.55188326  0.50249687  0.63518591  1.36467743  0.83988211\n",
      "  -0.39534475 -1.08636932  0.52566788 -0.0982106   0.21866117  1.86211895\n",
      "   1.28796015 -0.68471916 -0.13521292  2.24957484  0.12093741 -2.5463067\n",
      "  -1.33064023  0.94375017 -0.08989437  0.28685215 -1.30253542 -0.38565865\n",
      "  -0.16821774 -0.16076767 -0.17770461  2.134583    0.06725967 -0.15973714\n",
      "   0.49243206  2.10582439  1.77229151  0.4577867   0.8676266   0.87613478\n",
      "   2.36047312 -0.52272167 -0.83957429 -0.70598676 -0.96187185  0.2789921\n",
      "   0.45909643 -0.65035975 -1.5042354  -0.52561843 -0.30277558  1.11667704\n",
      "   1.331459    1.59464734 -0.21570371  0.91148887  0.77381275 -0.03958162\n",
      "   1.14374844  1.39966263 -0.5907154   1.01210271 -0.46550981  3.22863267\n",
      "  -0.96351141 -0.94612279 -1.56415901 -0.08797315  0.65759376  0.42741063\n",
      "  -1.51840528  1.23071163  0.51117642 -0.16625583  1.54562424  0.37494735\n",
      "   0.73170948 -0.32315573 -0.86133003 -0.69587979 -0.28597666 -0.88380862\n",
      "   0.13641879  0.87800789 -0.72983267 -1.21286444 -2.54179411 -0.07434419\n",
      "  -0.34818432]\n",
      " [ 1.187717    1.13885886 -0.51671649  0.96462189  0.63196418 -0.28871824\n",
      "  -1.14772827 -0.14152921 -0.24066046 -0.42364845  0.57276106 -1.18210796\n",
      "   0.40918102  0.72601489  0.89387917 -0.97059096 -1.24355793  0.09632183\n",
      "   1.05601921 -0.67806356  1.14414855  0.54997672  0.77538415  1.06106396\n",
      "  -1.12966239 -0.1240581   1.46228627 -1.19539472  0.23250109  0.26852813\n",
      "   0.17772877  1.48028093  0.12709105 -1.07878909 -1.24307955 -1.22316339\n",
      "   1.74295622  0.44315005 -0.7584221  -0.70366066  0.83986958  0.09008755\n",
      "  -0.74318704  0.06544207 -0.51646702 -1.08999371 -0.35451963 -0.78830687\n",
      "  -0.564816    3.11793921 -1.07581149 -0.37657439 -1.70102423 -0.59853216\n",
      "  -0.55836348 -1.03681521 -0.12457085  0.6133535  -0.26537069  0.20810313\n",
      "   0.73388291  0.54737649 -0.78891595 -0.14393143  0.69110573  0.1999348\n",
      "  -0.925634   -0.92416175 -1.89700234  2.00905904  1.09222348  0.91998499\n",
      "  -1.00756735 -0.88063997  2.06857147 -0.26636328  0.50002472  0.19421566\n",
      "  -0.76180504 -0.29698239  0.31865337 -0.60709471 -0.39767645  0.15804315\n",
      "   1.61124856  0.37197949  1.83242949 -0.305719    0.2900906   1.99801054\n",
      "  -0.82911597  0.25042077 -1.08376378  0.16622982  0.61218155 -0.99533467\n",
      "  -1.09968736 -1.35484966 -0.47592408  0.40042951 -0.0923478   1.4752889\n",
      "  -0.87160714]]\n",
      "W4=  [[-0.66268788  0.15462281 -0.39985657]\n",
      " [ 0.59176675 -0.65828022  0.34356903]\n",
      " [ 0.03770001 -0.64350694 -0.43314354]]\n",
      "b2=  [[-1.21820015]\n",
      " [-0.06595633]\n",
      " [ 0.10380168]\n",
      " [ 0.6103471 ]\n",
      " [ 1.27341819]\n",
      " [ 0.16704496]\n",
      " [ 0.43908029]\n",
      " [-0.43532797]\n",
      " [-0.43891361]\n",
      " [-0.58212887]\n",
      " [-1.09073417]\n",
      " [ 0.32647195]\n",
      " [ 0.66238699]\n",
      " [ 0.04805779]\n",
      " [-0.92043112]\n",
      " [-0.76471137]\n",
      " [ 0.33227993]\n",
      " [ 0.74494747]\n",
      " [-0.23933133]\n",
      " [-0.74993555]\n",
      " [ 1.26182634]\n",
      " [ 0.16093913]\n",
      " [-0.12407746]\n",
      " [-0.26933154]\n",
      " [-0.01477148]\n",
      " [-0.13687123]\n",
      " [ 0.03349911]\n",
      " [-0.18151921]\n",
      " [ 0.45210496]\n",
      " [-0.79014843]\n",
      " [ 0.49359921]\n",
      " [ 0.54920935]\n",
      " [ 0.09623097]\n",
      " [ 0.17317845]\n",
      " [ 0.04389525]\n",
      " [ 0.16890903]\n",
      " [ 0.36377219]\n",
      " [ 0.10512961]\n",
      " [ 0.7474738 ]\n",
      " [-0.29147559]\n",
      " [ 0.35224014]\n",
      " [ 0.05511624]\n",
      " [-0.52755997]\n",
      " [-0.30527077]\n",
      " [ 0.42904504]\n",
      " [-0.65118389]\n",
      " [ 0.01649289]\n",
      " [ 0.65130266]\n",
      " [-0.87467116]\n",
      " [-0.89381488]\n",
      " [-0.53073658]\n",
      " [-0.3155812 ]\n",
      " [ 0.29438105]\n",
      " [-0.23541922]\n",
      " [ 0.39546138]\n",
      " [-0.11946275]\n",
      " [-0.29160319]\n",
      " [ 0.24992816]\n",
      " [-0.29901814]\n",
      " [ 0.2875827 ]\n",
      " [ 0.05212482]\n",
      " [-0.6929917 ]\n",
      " [ 0.36967016]\n",
      " [-0.44597333]\n",
      " [-0.57196788]\n",
      " [ 0.05419004]\n",
      " [-0.3315973 ]\n",
      " [ 0.50397866]\n",
      " [ 0.8270223 ]\n",
      " [-0.28591453]\n",
      " [ 0.23451667]\n",
      " [-0.65548108]\n",
      " [-0.40028638]\n",
      " [ 0.49656847]\n",
      " [ 0.25467452]\n",
      " [ 0.32158986]\n",
      " [ 0.28246804]\n",
      " [-0.0641951 ]\n",
      " [-0.27872205]\n",
      " [ 0.13962677]\n",
      " [-0.25368603]\n",
      " [ 0.54640943]\n",
      " [ 0.72787983]\n",
      " [-0.30248652]\n",
      " [-0.31113708]\n",
      " [ 0.1537204 ]\n",
      " [-0.25284356]\n",
      " [-0.36663124]\n",
      " [ 0.48462529]\n",
      " [ 0.95427697]\n",
      " [-0.02983065]\n",
      " [-0.04044285]\n",
      " [-0.50557516]\n",
      " [ 0.11907683]\n",
      " [ 0.29088459]\n",
      " [-0.04443777]\n",
      " [ 0.36733795]\n",
      " [-0.15261379]\n",
      " [-0.1942536 ]\n",
      " [-0.22734657]\n",
      " [ 0.31593915]\n",
      " [-0.72608823]\n",
      " [-0.01766581]]\n",
      "b3=  [[-0.0087457 ]\n",
      " [-0.63298337]\n",
      " [-0.44826834]]\n",
      "b4=  [[ 0.58860462]\n",
      " [-0.7346505 ]\n",
      " [ 0.18756105]]\n"
     ]
    }
   ],
   "source": [
    "\n",
    "W2= np.random.normal(0, 1,  (103,103544))\n",
    "W3 = np.random.normal(0, 1,(3,103))\n",
    "W4 = 0.5*np.random.normal(0, 1,(3,3))\n",
    "\n",
    "b2 = 0.5*np.random.normal(0, 1,(103,1))\n",
    "b3 = 0.5*np.random.normal(0, 1,(3,1))\n",
    "b4 = 0.5*np.random.normal(0, 1,(3,1))\n",
    "\n",
    "print(\"W2= \",W2)\n",
    "print(\"W3= \",W3)\n",
    "print(\"W4= \",W4)\n",
    "print(\"b2= \",b2)\n",
    "print(\"b3= \",b3)\n",
    "print(\"b4= \",b4)\n",
    "\n"
   ]
  },
  {
   "cell_type": "code",
   "execution_count": 13,
   "metadata": {},
   "outputs": [],
   "source": [
    "eta = 0.05        # learning rate       \n",
    "Niter = 500     #number of SG iterations 1e6\n",
    "savecost = np.zeros(int(Niter)) # value of cost function at each iteration\n",
    "\n",
    "\n"
   ]
  },
  {
   "cell_type": "code",
   "execution_count": 14,
   "metadata": {},
   "outputs": [],
   "source": [
    "def activate(x,W,b):\n",
    "    return 1/(1+np.exp(-(W.dot(x)+b)))"
   ]
  },
  {
   "cell_type": "code",
   "execution_count": 15,
   "metadata": {},
   "outputs": [],
   "source": [
    "def cost(W2,W3,W4,b2,b3,b4):\n",
    "    costvec = np.zeros(50);\n",
    "    for i in range (50):\n",
    "        x = H[i,:]\n",
    "        a2 = activate(x,W2,b2)\n",
    "        a3 = activate(a2,W3,b3)\n",
    "        a4 = activate(a3,W4,b4)\n",
    "        d=Pos[i,:].reshape(3,1)- a4\n",
    "        costvec[i] = np.linalg.norm(d)\n",
    "    return np.linalg.norm(costvec)*np.linalg.norm(costvec) #np.linalg.norm for euclbidean norm"
   ]
  },
  {
   "cell_type": "code",
   "execution_count": 16,
   "metadata": {},
   "outputs": [
    {
     "name": "stderr",
     "output_type": "stream",
     "text": [
      "/Users/hiba/anaconda3/lib/python3.7/site-packages/ipykernel_launcher.py:2: RuntimeWarning: overflow encountered in exp\n",
      "  \n"
     ]
    }
   ],
   "source": [
    "\n",
    "for counter in range(Niter):\n",
    "    k = random.randint(0,49)      # choose a training point at random\n",
    "    x = H[k,:].reshape(103544,1);\n",
    "    #forward pass\n",
    "    a2 = activate(x,W2,b2)\n",
    "    a3 = activate(a2,W3,b3)\n",
    "    a4 = activate(a3,W4,b4)\n",
    "    # Backward pass\n",
    "    delta4 = np.multiply(np.multiply(a4,(1-a4)),(a4-Pos[k,:].reshape(3,1)))#np.multiply for element wise vector multi\n",
    "    delta3 =np.multiply(np.multiply(a3,(1-a3)),(W4.T.dot(delta4)))\n",
    "    delta2 = np.multiply(np.multiply(a2,(1-a2)),(W3.T.dot(delta3)))\n",
    "    #gradient step\n",
    "    W2 = W2 - eta*delta2.dot(x.reshape(1,103544))\n",
    "    W3 = W3 - eta*delta3.dot(a2.T)\n",
    "    W4 = W4 - eta*delta4.dot(a3.T)\n",
    "    b2 = b2 - eta*delta2;\n",
    "    b3 = b3 - eta*delta3;\n",
    "    b4 = b4 - eta*delta4;\n",
    "    newcost = cost(W2,W3,W4,b2,b3,b4)\n",
    "    savecost[counter] = newcost\n",
    "    "
   ]
  },
  {
   "cell_type": "code",
   "execution_count": 38,
   "metadata": {},
   "outputs": [
    {
     "data": {
      "image/png": "[encoded data removed]",
      "text/plain": [
       "<Figure size 432x288 with 1 Axes>"
      ]
     },
     "metadata": {
      "needs_background": "light"
     },
     "output_type": "display_data"
    }
   ],
   "source": [
    "\n",
    "#emilogy([1:1e4:Niter`],savecost(1:1e4:Niter))\n",
    "a= np.arange(1,Niter, 100)\n",
    "\n",
    "\n",
    "fig = plt.figure()\n",
    "fig.subplots_adjust(top=0.8)\n",
    "ax1 = fig.add_subplot(211)\n",
    "ax1.set_ylabel('Convergence')\n",
    "ax1.set_xlabel('Iteration (n)')\n",
    "\n",
    "\n",
    "line, =ax1.semilogy(a, savecost[a])\n",
    "plt.show()"
   ]
  },
  {
   "cell_type": "code",
   "execution_count": 43,
   "metadata": {},
   "outputs": [],
   "source": [
    "import tensorflow as tf\n",
    "from tensorflow.keras import datasets, layers, models\n"
   ]
  },
  {
   "cell_type": "code",
   "execution_count": 50,
   "metadata": {},
   "outputs": [
    {
     "name": "stdout",
     "output_type": "stream",
     "text": [
      "Model: \"sequential_4\"\n",
      "_________________________________________________________________\n",
      "Layer (type)                 Output Shape              Param #   \n",
      "=================================================================\n",
      "conv2d_4 (Conv2D)            (None, 508, 52, 32)       739232    \n",
      "_________________________________________________________________\n",
      "max_pooling2d_2 (MaxPooling2 (None, 254, 26, 32)       0         \n",
      "=================================================================\n",
      "Total params: 739,232\n",
      "Trainable params: 739,232\n",
      "Non-trainable params: 0\n",
      "_________________________________________________________________\n"
     ]
    }
   ],
   "source": [
    "model = models.Sequential()\n",
    "model.add(layers.Conv2D(32,(5,5),activation='relu', input_shape=(512,56,924)))\n",
    "model.add(layers.MaxPooling2D((2, 2)))\n",
    "model.summary()"
   ]
  }
 ],
 "metadata": {
  "kernelspec": {
   "display_name": "Python 3",
   "language": "python",
   "name": "python3"
  },
  "language_info": {
   "codemirror_mode": {
    "name": "ipython",
    "version": 3
   },
   "file_extension": ".py",
   "mimetype": "text/x-python",
   "name": "python",
   "nbconvert_exporter": "python",
   "pygments_lexer": "ipython3",
   "version": "3.7.1"
  }
 },
 "nbformat": 4,
 "nbformat_minor": 2
}
